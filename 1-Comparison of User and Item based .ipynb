{
 "cells": [
  {
   "cell_type": "markdown",
   "source": [
    "This notebook aims to briefly explore the K Nearest Nierboughs Basic Algorithm\n",
    "Both item-based and user-based models will be tested to determine if one way is more effective\n",
    "than the other"
   ],
   "metadata": {
    "collapsed": false
   }
  },
  {
   "cell_type": "code",
   "execution_count": 1,
   "outputs": [],
   "source": [
    "import random, time\n",
    "\n",
    "# import modules\n",
    "from surprise import KNNBasic, Dataset\n",
    "from surprise.model_selection import KFold\n",
    "from surprise.accuracy import mae, mse, rmse\n",
    "import numpy as np\n",
    "import pandas as pd\n",
    "import matplotlib.pyplot as plt\n",
    "from own_algorithms.helper import testing_algorithm\n"
   ],
   "metadata": {
    "collapsed": false
   }
  },
  {
   "cell_type": "code",
   "execution_count": 2,
   "outputs": [],
   "source": [
    "# load data and split into A/B sets, A for CFV and B for unbiased testing\n",
    "data = Dataset.load_builtin('ml-100k')\n",
    "raw_ratings= data.raw_ratings\n",
    "\n",
    "random.seed(2001)\n",
    "np.random.seed(2001)\n",
    "random.shuffle(raw_ratings)\n",
    "\n",
    "# create threshold for unseen, 80-20\n",
    "cutoff = int(0.8 * len(raw_ratings))\n",
    "A_raw= raw_ratings[:cutoff]\n",
    "B_raw= raw_ratings[cutoff:]\n",
    "\n",
    "# data is now only set A ratings\n",
    "data.raw_ratings= A_raw\n"
   ],
   "metadata": {
    "collapsed": false
   }
  },
  {
   "cell_type": "code",
   "execution_count": 3,
   "outputs": [],
   "source": [
    "\n",
    "algo = KNNBasic(sim_options={'user_based': False}, verbose=False)\n",
    "IB_scores= testing_algorithm(algo, data)\n"
   ],
   "metadata": {
    "collapsed": false
   }
  },
  {
   "cell_type": "code",
   "execution_count": 4,
   "outputs": [
    {
     "data": {
      "text/plain": "array([0.9898691 , 0.97985935, 0.7835603 , 0.28820171, 1.67625036])"
     },
     "execution_count": 4,
     "metadata": {},
     "output_type": "execute_result"
    }
   ],
   "source": [
    "IB_scores"
   ],
   "metadata": {
    "collapsed": false
   }
  },
  {
   "cell_type": "markdown",
   "source": [],
   "metadata": {
    "collapsed": false
   }
  },
  {
   "cell_type": "code",
   "execution_count": 5,
   "outputs": [
    {
     "data": {
      "text/plain": "array([0.98991427, 0.97994319, 0.78229889, 0.20761881, 1.44556499])"
     },
     "execution_count": 5,
     "metadata": {},
     "output_type": "execute_result"
    }
   ],
   "source": [
    "algo = KNNBasic(sim_options={'user_based': True}, verbose=False)\n",
    "UB_scores= testing_algorithm(algo, data)\n",
    "UB_scores\n"
   ],
   "metadata": {
    "collapsed": false
   }
  },
  {
   "cell_type": "code",
   "execution_count": 6,
   "outputs": [],
   "source": [
    "columns=pd.array(['RMSE', 'MSE', 'MAE', 'Fit Time', 'Predict Time'])\n",
    "KNN_df= pd.DataFrame(data=[IB_scores, UB_scores], columns=columns)\n",
    "KNN_df.insert(0,'Algorithm', ['User-Based','Item-Based'] )\n",
    "KNN_df.to_csv('./algo_data/KNNBasic_defaultK_User_Item.csv', index=False)\n",
    "\n"
   ],
   "metadata": {
    "collapsed": false
   }
  },
  {
   "cell_type": "code",
   "execution_count": 7,
   "outputs": [
    {
     "data": {
      "text/plain": "  Algorithm     RMSE          MSE           MAE           Fit Time      \\\n0   User-Based      0.989869      0.979859      0.783560      0.288202   \n1   Item-Based      0.989914      0.979943      0.782299      0.207619   \n\n   Predict Time  \n0      1.676250  \n1      1.445565  ",
      "text/html": "<div>\n<style scoped>\n    .dataframe tbody tr th:only-of-type {\n        vertical-align: middle;\n    }\n\n    .dataframe tbody tr th {\n        vertical-align: top;\n    }\n\n    .dataframe thead th {\n        text-align: right;\n    }\n</style>\n<table border=\"1\" class=\"dataframe\">\n  <thead>\n    <tr style=\"text-align: right;\">\n      <th></th>\n      <th>Algorithm</th>\n      <th>RMSE</th>\n      <th>MSE</th>\n      <th>MAE</th>\n      <th>Fit Time</th>\n      <th>Predict Time</th>\n    </tr>\n  </thead>\n  <tbody>\n    <tr>\n      <th>0</th>\n      <td>User-Based</td>\n      <td>0.989869</td>\n      <td>0.979859</td>\n      <td>0.783560</td>\n      <td>0.288202</td>\n      <td>1.676250</td>\n    </tr>\n    <tr>\n      <th>1</th>\n      <td>Item-Based</td>\n      <td>0.989914</td>\n      <td>0.979943</td>\n      <td>0.782299</td>\n      <td>0.207619</td>\n      <td>1.445565</td>\n    </tr>\n  </tbody>\n</table>\n</div>"
     },
     "execution_count": 7,
     "metadata": {},
     "output_type": "execute_result"
    }
   ],
   "source": [
    "KNN_df"
   ],
   "metadata": {
    "collapsed": false
   }
  },
  {
   "cell_type": "code",
   "execution_count": 8,
   "outputs": [
    {
     "data": {
      "text/plain": "                RMSE      MSE       MAE \nAlgorithm                               \nUser-Based  0.989869  0.979859  0.783560\nItem-Based  0.989914  0.979943  0.782299",
      "text/html": "<div>\n<style scoped>\n    .dataframe tbody tr th:only-of-type {\n        vertical-align: middle;\n    }\n\n    .dataframe tbody tr th {\n        vertical-align: top;\n    }\n\n    .dataframe thead th {\n        text-align: right;\n    }\n</style>\n<table border=\"1\" class=\"dataframe\">\n  <thead>\n    <tr style=\"text-align: right;\">\n      <th></th>\n      <th>RMSE</th>\n      <th>MSE</th>\n      <th>MAE</th>\n    </tr>\n    <tr>\n      <th>Algorithm</th>\n      <th></th>\n      <th></th>\n      <th></th>\n    </tr>\n  </thead>\n  <tbody>\n    <tr>\n      <th>User-Based</th>\n      <td>0.989869</td>\n      <td>0.979859</td>\n      <td>0.783560</td>\n    </tr>\n    <tr>\n      <th>Item-Based</th>\n      <td>0.989914</td>\n      <td>0.979943</td>\n      <td>0.782299</td>\n    </tr>\n  </tbody>\n</table>\n</div>"
     },
     "execution_count": 8,
     "metadata": {},
     "output_type": "execute_result"
    }
   ],
   "source": [
    "accuracy= KNN_df.drop(['Fit Time', 'Predict Time'], axis=1)\n",
    "accuracy.set_index('Algorithm')"
   ],
   "metadata": {
    "collapsed": false
   }
  },
  {
   "cell_type": "code",
   "execution_count": 9,
   "outputs": [],
   "source": [
    "ib= accuracy.loc[0].values[1:]\n",
    "ub= accuracy.loc[1].values[1:]"
   ],
   "metadata": {
    "collapsed": false
   }
  },
  {
   "cell_type": "code",
   "execution_count": 10,
   "outputs": [
    {
     "data": {
      "text/plain": "<Figure size 640x480 with 1 Axes>",
      "image/png": "[encoded data removed]"
     },
     "metadata": {},
     "output_type": "display_data"
    }
   ],
   "source": [
    "\n",
    "\n",
    "labels = ['RMSE', 'MSE', 'MAE']\n",
    "x = np.arange(len(labels))\n",
    "width = 0.35\n",
    "\n",
    "fig, ax = plt.subplots()\n",
    "rects1 = ax.bar(x - width/2, ub, width, label='User-Based')\n",
    "rects2 = ax.bar(x + width/2, ib, width, label='Item-Based')\n",
    "\n",
    "ax.set_ylabel('Scores')\n",
    "ax.set_title('Comparison of User-Based and Item-Based Scores')\n",
    "ax.set_xticks(x)\n",
    "ax.set_xticklabels(labels)\n",
    "ax.legend()\n",
    "\n",
    "\n",
    "plt.savefig('./KNN Graphs/Item_vs_User_Accuracy')\n",
    "plt.show()"
   ],
   "metadata": {
    "collapsed": false
   }
  },
  {
   "cell_type": "code",
   "execution_count": 10,
   "outputs": [],
   "source": [],
   "metadata": {
    "collapsed": false
   }
  },
  {
   "cell_type": "markdown",
   "source": [
    "Now that each method has been tested using the default setups, the next step is to\n",
    "tweak the paramater such as simularity measures and k number"
   ],
   "metadata": {
    "collapsed": false
   }
  },
  {
   "cell_type": "code",
   "execution_count": 10,
   "outputs": [],
   "source": [],
   "metadata": {
    "collapsed": false
   }
  }
 ],
 "metadata": {
  "kernelspec": {
   "display_name": "Python 3",
   "language": "python",
   "name": "python3"
  },
  "language_info": {
   "codemirror_mode": {
    "name": "ipython",
    "version": 2
   },
   "file_extension": ".py",
   "mimetype": "text/x-python",
   "name": "python",
   "nbconvert_exporter": "python",
   "pygments_lexer": "ipython2",
   "version": "2.7.6"
  }
 },
 "nbformat": 4,
 "nbformat_minor": 0
}
