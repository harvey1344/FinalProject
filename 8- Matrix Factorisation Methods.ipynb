{
 "cells": [
  {
   "cell_type": "markdown",
   "source": [
    "Notebooks 1-8 have explore the K Nearest Neirbough algorithm in its fullest. It has been throughly tested using different parameters to optimise the model for reccomendations. However, other models for reccomdations exists and to create the best predictor these msut be explored. This notebook aims to introduce the SVD alogirthm provided by the surprise libary, an by using the built in grid search method, the algorithm will be tested to the fullest extent to find our optimal tuning. Again, testing will occur on the smaller 100k dataset due to computional power but the final model will be compared on performance on both the 100k and 1m"
   ],
   "metadata": {
    "collapsed": false
   }
  },
  {
   "cell_type": "code",
   "execution_count": 1,
   "outputs": [
    {
     "data": {
      "text/plain": "'After much brute force and various failed runs on my laptop. I decided to tranfer the grid search code to seperate py files to be ran on my pc with 8cores. The process was painstaking slow and that was with the limited number of params configurations i chose. If i was to have my own way, I would have liked to perform a wider grid or random grid solutions. However this waas simply not possible. The matrix factorision algorithm grid search and csv of the setups can be found in the respective folder. I do not reccomend running the scripts unless you want your pc to thermal throttle and your energy bill to sky rocket'"
     },
     "execution_count": 1,
     "metadata": {},
     "output_type": "execute_result"
    }
   ],
   "source": [
    "'''After much brute force and various failed runs on my laptop. I decided to tranfer the grid search code to seperate py files to be ran on my pc with 8cores. The process was painstaking slow and that was with the limited number of params configurations i chose. If i was to have my own way, I would have liked to perform a wider grid or random grid solutions. However this waas simply not possible. The matrix factorision algorithm grid search and csv of the setups can be found in the respective folder. I do not reccomend running the scripts unless you want your pc to thermal throttle and your energy bill to sky rocket'''"
   ],
   "metadata": {
    "collapsed": false
   }
  },
  {
   "cell_type": "markdown",
   "source": [
    "The rest of this notebook will load the parameter setup for each respective algorithm. Train and test on the ml-100 and 1m and the provide visualtions to compare the findings"
   ],
   "metadata": {
    "collapsed": false
   }
  },
  {
   "cell_type": "code",
   "execution_count": null,
   "outputs": [],
   "source": [],
   "metadata": {
    "collapsed": false
   }
  }
 ],
 "metadata": {
  "kernelspec": {
   "display_name": "Python 3",
   "language": "python",
   "name": "python3"
  },
  "language_info": {
   "codemirror_mode": {
    "name": "ipython",
    "version": 2
   },
   "file_extension": ".py",
   "mimetype": "text/x-python",
   "name": "python",
   "nbconvert_exporter": "python",
   "pygments_lexer": "ipython2",
   "version": "2.7.6"
  }
 },
 "nbformat": 4,
 "nbformat_minor": 0
}
