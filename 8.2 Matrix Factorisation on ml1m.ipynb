{
 "cells": [
  {
   "cell_type": "markdown",
   "source": [
    "This notebook continues from the matrix factorisation algorithm analysis. Continue from\n",
    "analysis on ml-100k, here the larger 1m dataset is used to generate accuracy and time scores. As well as top n prediction lists for each algorithm"
   ],
   "metadata": {
    "collapsed": false
   }
  },
  {
   "cell_type": "code",
   "execution_count": 9,
   "outputs": [],
   "source": [
    "import pandas as pd\n",
    "import numpy as np\n",
    "import random\n",
    "from surprise import Dataset, SVDpp, SVD, NMF\n",
    "from surprise.accuracy import rmse\n",
    "import time\n",
    "from surprise.model_selection import train_test_split"
   ],
   "metadata": {
    "collapsed": false
   }
  },
  {
   "cell_type": "code",
   "execution_count": 10,
   "outputs": [],
   "source": [
    "svd_setup= pd.read_csv('./gridSearch/SVD_rmse_best.csv')\n",
    "svd_n_factors=svd_setup['n_factors'][0]\n",
    "svd_lr_all= svd_setup['lr_all'][0]\n",
    "svd_reg_all= svd_setup['reg_all'][0]\n",
    "svd_n_epochs=svd_setup['n_epochs'][0]"
   ],
   "metadata": {
    "collapsed": false
   }
  },
  {
   "cell_type": "code",
   "execution_count": 10,
   "outputs": [],
   "source": [],
   "metadata": {
    "collapsed": false
   }
  },
  {
   "cell_type": "code",
   "execution_count": 11,
   "outputs": [],
   "source": [
    "data= Dataset.load_builtin('ml-1m')\n",
    "trainset, testset = train_test_split(data, test_size=0.25)"
   ],
   "metadata": {
    "collapsed": false
   }
  },
  {
   "cell_type": "code",
   "execution_count": 12,
   "outputs": [
    {
     "name": "stdout",
     "output_type": "stream",
     "text": [
      "Unbiased accuracy on 100k=, RMSE: 0.8680\n",
      "Fit time for 100k = 31.543119430541992\n",
      "Test time for 100k =2.7326157093048096\n"
     ]
    }
   ],
   "source": [
    "algo= SVD(n_factors=svd_n_factors, lr_all=svd_lr_all, reg_all=svd_reg_all, n_epochs=svd_n_epochs, random_state=1)\n",
    "start_fit = time.time()\n",
    "algo.fit(trainset)\n",
    "svd_fit_1m= time.time()-start_fit\n",
    "start_predict= time.time()\n",
    "predictions_svd = algo.test(testset)\n",
    "svd_test_1m= time.time()-start_predict\n",
    "print(\"Unbiased accuracy on 100k=,\", end=\" \")\n",
    "svd_rmse_1m= rmse(predictions_svd)\n",
    "print(\"Fit time for 100k = \"+ str(svd_fit_1m))\n",
    "print(\"Test time for 100k =\"+ str(svd_test_1m))\n",
    "\n",
    "svd_1m_stats=np.array([svd_rmse_1m, svd_fit_1m, svd_test_1m])"
   ],
   "metadata": {
    "collapsed": false
   }
  },
  {
   "cell_type": "code",
   "execution_count": 13,
   "outputs": [],
   "source": [
    "#load the setup for SVDpp\n",
    "svdpp_setup= pd.read_csv('./gridSearch/SVDpp_rmse_best.csv')\n",
    "\n",
    "svdpp_n_factors=svd_setup['n_factors'][0]\n",
    "svdpp_lr_all= svd_setup['lr_all'][0]\n",
    "svdpp_reg_all= svd_setup['reg_all'][0]\n",
    "svdpp_n_epochs=svd_setup['n_epochs'][0]"
   ],
   "metadata": {
    "collapsed": false
   }
  },
  {
   "cell_type": "code",
   "execution_count": 14,
   "outputs": [
    {
     "name": "stdout",
     "output_type": "stream",
     "text": [
      "Unbiased accuracy on 1m=, RMSE: 0.8660\n",
      "Fit time for 1m = 12664.303590774536\n",
      "Test time for 1m =100.64086389541626\n"
     ]
    }
   ],
   "source": [
    "algo= SVDpp(n_factors=svdpp_n_factors, lr_all=svdpp_lr_all, reg_all=svdpp_reg_all, n_epochs=svdpp_n_epochs, random_state=1)\n",
    "start_fit = time.time()\n",
    "algo.fit(trainset)\n",
    "svdpp_fit_1m= time.time()-start_fit\n",
    "start_predict= time.time()\n",
    "predictions_svdpp = algo.test(testset)\n",
    "svdpp_test_1m= time.time()-start_predict\n",
    "print(\"Unbiased accuracy on 1m=,\", end=\" \")\n",
    "svdpp_rmse_1m= rmse(predictions_svdpp)\n",
    "print(\"Fit time for 1m = \"+ str(svdpp_fit_1m))\n",
    "print(\"Test time for 1m =\"+ str(svdpp_test_1m))\n"
   ],
   "metadata": {
    "collapsed": false
   }
  },
  {
   "cell_type": "code",
   "execution_count": 15,
   "outputs": [
    {
     "data": {
      "text/plain": "array([8.65960423e-01, 1.26643036e+04, 1.00640864e+02])"
     },
     "execution_count": 15,
     "metadata": {},
     "output_type": "execute_result"
    }
   ],
   "source": [
    "svdpp_1m_stats=np.array([svdpp_rmse_1m, svdpp_fit_1m, svdpp_test_1m])\n",
    "svdpp_1m_stats"
   ],
   "metadata": {
    "collapsed": false
   }
  },
  {
   "cell_type": "code",
   "execution_count": 16,
   "outputs": [],
   "source": [
    "nmf_setup= pd.read_csv('./gridSearch/nmf_rmse_best.csv')\n",
    "nmf_n_factors =nmf_setup['n_factors'].iloc[0]\n",
    "nmf_lr_bu =nmf_setup['lr_bu'].iloc[0]\n",
    "nmf_lr_bi =nmf_setup['lr_bi'].iloc[0]\n",
    "nmf_reg_bu =nmf_setup['reg_bu'].iloc[0]\n",
    "nmf_reg_bi =nmf_setup['reg_bi'].iloc[0]\n",
    "nmf_n_epochs =nmf_setup['n_epochs'].iloc[0]\n",
    "nmf_biased =nmf_setup['biased'].iloc[0]"
   ],
   "metadata": {
    "collapsed": false
   }
  },
  {
   "cell_type": "code",
   "execution_count": 17,
   "outputs": [
    {
     "name": "stdout",
     "output_type": "stream",
     "text": [
      "Unbiased accuracy on 1m=, RMSE: 0.9511\n",
      "Fit time for 1m = 21.720911979675293\n",
      "Test time for 1m =2.408543825149536\n"
     ]
    }
   ],
   "source": [
    "algo= NMF(n_factors=nmf_n_factors,\n",
    "                     lr_bu=nmf_lr_bu,\n",
    "                     lr_bi=nmf_lr_bi,\n",
    "                     reg_bu=nmf_reg_bu,\n",
    "                     reg_bi=nmf_reg_bi,\n",
    "                     n_epochs=nmf_n_epochs,\n",
    "                     biased=nmf_biased, random_state=1)\n",
    "\n",
    "\n",
    "start_fit = time.time()\n",
    "algo.fit(trainset)\n",
    "nmfb_fit_1m= time.time()-start_fit\n",
    "start_predict= time.time()\n",
    "predictions_nmfb = algo.test(testset)\n",
    "nmfb_test_1m= time.time()-start_predict\n",
    "print(\"Unbiased accuracy on 1m=,\", end=\" \")\n",
    "nmfb_rmse_1m= rmse(predictions_nmfb)\n",
    "print(\"Fit time for 1m = \"+ str(nmfb_fit_1m))\n",
    "print(\"Test time for 1m =\"+ str(nmfb_test_1m))\n",
    "\n",
    "nmfb_1m_stats=np.array([nmfb_rmse_1m, nmfb_fit_1m, nmfb_test_1m])"
   ],
   "metadata": {
    "collapsed": false
   }
  },
  {
   "cell_type": "code",
   "execution_count": 18,
   "outputs": [
    {
     "name": "stdout",
     "output_type": "stream",
     "text": [
      "Unbiased accuracy on 1m=, RMSE: 0.9056\n",
      "Fit time for 1m = 21.515865325927734\n",
      "Test time for 1m =2.2374966144561768\n"
     ]
    }
   ],
   "source": [
    "algo= NMF(n_factors=nmf_n_factors,\n",
    "                     lr_bu=nmf_lr_bu,\n",
    "                     lr_bi=nmf_lr_bi,\n",
    "                     reg_bu=nmf_reg_bu,\n",
    "                     reg_bi=nmf_reg_bi,\n",
    "                     n_epochs=nmf_n_epochs,\n",
    "                     biased=False, random_state=1)\n",
    "\n",
    "\n",
    "start_fit = time.time()\n",
    "algo.fit(trainset)\n",
    "nmf_fit_1m= time.time()-start_fit\n",
    "start_predict= time.time()\n",
    "predictions_nmf = algo.test(testset)\n",
    "nmf_test_1m= time.time()-start_predict\n",
    "print(\"Unbiased accuracy on 1m=,\", end=\" \")\n",
    "nmf_rmse_1m= rmse(predictions_nmf)\n",
    "print(\"Fit time for 1m = \"+ str(nmf_fit_1m))\n",
    "print(\"Test time for 1m =\"+ str(nmf_test_1m))\n",
    "\n",
    "nmf_1m_stats=np.array([nmf_rmse_1m, nmf_fit_1m, nmf_test_1m])"
   ],
   "metadata": {
    "collapsed": false
   }
  },
  {
   "cell_type": "code",
   "execution_count": 19,
   "outputs": [],
   "source": [
    "data=pd.DataFrame(columns=['RMSE', 'Fit Time', 'Predict Time'])\n",
    "data.loc[len(data)] = svd_1m_stats\n",
    "data.loc[len(data)] = svdpp_1m_stats\n",
    "data.loc[len(data)] = nmfb_1m_stats\n",
    "data.loc[len(data)] = nmf_1m_stats\n",
    "data.insert(0,'Algorithm', ['SVD', 'SVDpp', 'NMF(bias)', 'NMF(unbias)'])\n",
    "data.to_csv('./algo_data/matrix_factor_1m', index=False)"
   ],
   "metadata": {
    "collapsed": false
   }
  },
  {
   "cell_type": "code",
   "execution_count": 20,
   "outputs": [],
   "source": [
    "rmse_values=np.array([svd_1m_stats[0], svdpp_1m_stats[0], nmf_1m_stats[0], nmfb_1m_stats[0]])\n",
    "fit_times=np.array([svd_1m_stats[1], svdpp_1m_stats[1], nmf_1m_stats[1], nmfb_1m_stats[1]])\n",
    "algos=np.array(['SVD', 'SVD++', 'NMF(unbiased)', 'NMF(biased)'])"
   ],
   "metadata": {
    "collapsed": false
   }
  },
  {
   "cell_type": "code",
   "execution_count": 21,
   "outputs": [
    {
     "data": {
      "text/plain": "<Figure size 640x480 with 1 Axes>",
      "image/png": "[encoded data removed]"
     },
     "metadata": {},
     "output_type": "display_data"
    }
   ],
   "source": [
    "import matplotlib.pyplot as plt\n",
    "x_labels = ['SVD', 'SVD++', 'NMF(unbiased)', 'NMF(bias)']\n",
    "\n",
    "# Create the bar chart\n",
    "plt.bar(range(len(rmse_values)), rmse_values)\n",
    "\n",
    "# Set the x-axis tick locations and labels\n",
    "plt.xticks(range(len(algos)), algos)\n",
    "\n",
    "# Set the title and labels for the chart\n",
    "plt.title('RMSE values for matrix factorisation algorithms on ml-100k')\n",
    "plt.xlabel('Algorithm')\n",
    "plt.ylabel('RMSE')\n",
    "\n",
    "# Display the chart\n",
    "plt.savefig('./Matrix Graphs/rmse_1m.png')\n",
    "plt.show()"
   ],
   "metadata": {
    "collapsed": false
   }
  },
  {
   "cell_type": "code",
   "execution_count": 22,
   "outputs": [
    {
     "data": {
      "text/plain": "<Figure size 640x480 with 1 Axes>",
      "image/png": "[encoded data removed]"
     },
     "metadata": {},
     "output_type": "display_data"
    }
   ],
   "source": [
    "\n",
    "# Create the scatter plot\n",
    "plt.scatter(fit_times, rmse_values)\n",
    "\n",
    "# Add labels to each point\n",
    "for i in range(len(fit_times)):\n",
    "    plt.text(fit_times[i]+1, rmse_values[i]+0.01, f\"({algos[i]})\")\n",
    "\n",
    "# Set the title and labels for the chart\n",
    "plt.title('Accuracy scores vs Time to fit on ml-1m')\n",
    "plt.xlabel('Time Taken (s)')\n",
    "plt.ylabel('RMSE')\n",
    "\n",
    "\n",
    "# Display the chart\n",
    "plt.savefig('./Matrix Graphs/Accuracy vs time to fit on ml1m')\n",
    "plt.show()"
   ],
   "metadata": {
    "collapsed": false
   }
  },
  {
   "cell_type": "code",
   "execution_count": 23,
   "outputs": [
    {
     "data": {
      "text/plain": "<Figure size 640x480 with 1 Axes>",
      "image/png": "[encoded data removed]"
     },
     "metadata": {},
     "output_type": "display_data"
    }
   ],
   "source": [
    "# Create the bar chart\n",
    "plt.bar(range(len(fit_times)), fit_times)\n",
    "\n",
    "# Set the x-axis tick locations and labels\n",
    "plt.xticks(range(len(x_labels)), x_labels)\n",
    "\n",
    "# Set the title and labels for the chart\n",
    "plt.title('Fit times for matrix factorisation algorithms on ml-100k')\n",
    "plt.xlabel('Algorithm')\n",
    "plt.ylabel('Time(s)')\n",
    "\n",
    "# Display the chart\n",
    "plt.savefig('./Matrix Graphs/fit_1m.png')\n",
    "plt.show()"
   ],
   "metadata": {
    "collapsed": false
   }
  },
  {
   "cell_type": "code",
   "execution_count": 39,
   "outputs": [],
   "source": [
    "# create prediction lists\n",
    "from own_algorithms.top_n_list import get_top_n_list\n",
    "\n",
    "movies_cols = ['movie_id', 'title', 'genres']\n",
    "movies_df = pd.read_csv('./ml-1m/movies.dat', sep='::', names=movies_cols, engine='python', encoding='latin-1')\n",
    "\n",
    "# create top n list for SVD\n",
    "movies398=get_top_n_list(predictions_svd, 10, '398', movies_df)\n",
    "movies1=get_top_n_list(predictions_svd, 10, '1', movies_df)\n",
    "movies134=get_top_n_list(predictions_svd, 10, '134', movies_df)\n"
   ],
   "metadata": {
    "collapsed": false
   }
  },
  {
   "cell_type": "code",
   "execution_count": 40,
   "outputs": [],
   "source": [
    "#load all 3 prediction csv\n",
    "user1= pd.read_csv('./predictions/1.csv')\n",
    "user134= pd.read_csv('./predictions/134.csv')\n",
    "user398= pd.read_csv('./predictions/398.csv')"
   ],
   "metadata": {
    "collapsed": false
   }
  },
  {
   "cell_type": "code",
   "execution_count": 41,
   "outputs": [
    {
     "data": {
      "text/plain": "                                   Hybrid  \\\n0                            Fargo (1996)   \n1                             Gigi (1958)   \n2                       Cinderella (1950)   \n3  One Flew Over the Cuckoo's Nest (1975)   \n4                          Ben-Hur (1959)   \n5              Saving Private Ryan (1998)   \n6               Christmas Story, A (1983)   \n7         Ferris Bueller's Day Off (1986)   \n8                       Awakenings (1990)   \n9                      Toy Story 2 (1999)   \n\n                                KNN Basic  \\\n0                            Fargo (1996)   \n1                             Gigi (1958)   \n2                       Cinderella (1950)   \n3  One Flew Over the Cuckoo's Nest (1975)   \n4                          Ben-Hur (1959)   \n5              Saving Private Ryan (1998)   \n6               Christmas Story, A (1983)   \n7         Ferris Bueller's Day Off (1986)   \n8                       Awakenings (1990)   \n9                      Toy Story 2 (1999)   \n\n                                KNN Baseline  \\\n0  Star Wars: Episode IV - A New Hope (1977)   \n1                    Schindler's List (1993)   \n2                        My Fair Lady (1964)   \n3                   Wizard of Oz, The (1939)   \n4                  Driving Miss Daisy (1989)   \n5                 Saving Private Ryan (1998)   \n6              Miracle on 34th Street (1947)   \n7           Run Lola Run (Lola rennt) (1998)   \n8                    Sixth Sense, The (1999)   \n9                  Christmas Story, A (1983)   \n\n                                      SVD  \n0                        Toy Story (1995)  \n1               Secret Garden, The (1993)  \n2                     Mary Poppins (1964)  \n3       E.T. the Extra-Terrestrial (1982)  \n4  One Flew Over the Cuckoo's Nest (1975)  \n5              Saving Private Ryan (1998)  \n6        Run Lola Run (Lola rennt) (1998)  \n7                 Sixth Sense, The (1999)  \n8                       Awakenings (1990)  \n9                Girl, Interrupted (1999)  ",
      "text/html": "<div>\n<style scoped>\n    .dataframe tbody tr th:only-of-type {\n        vertical-align: middle;\n    }\n\n    .dataframe tbody tr th {\n        vertical-align: top;\n    }\n\n    .dataframe thead th {\n        text-align: right;\n    }\n</style>\n<table border=\"1\" class=\"dataframe\">\n  <thead>\n    <tr style=\"text-align: right;\">\n      <th></th>\n      <th>Hybrid</th>\n      <th>KNN Basic</th>\n      <th>KNN Baseline</th>\n      <th>SVD</th>\n    </tr>\n  </thead>\n  <tbody>\n    <tr>\n      <th>0</th>\n      <td>Fargo (1996)</td>\n      <td>Fargo (1996)</td>\n      <td>Star Wars: Episode IV - A New Hope (1977)</td>\n      <td>Toy Story (1995)</td>\n    </tr>\n    <tr>\n      <th>1</th>\n      <td>Gigi (1958)</td>\n      <td>Gigi (1958)</td>\n      <td>Schindler's List (1993)</td>\n      <td>Secret Garden, The (1993)</td>\n    </tr>\n    <tr>\n      <th>2</th>\n      <td>Cinderella (1950)</td>\n      <td>Cinderella (1950)</td>\n      <td>My Fair Lady (1964)</td>\n      <td>Mary Poppins (1964)</td>\n    </tr>\n    <tr>\n      <th>3</th>\n      <td>One Flew Over the Cuckoo's Nest (1975)</td>\n      <td>One Flew Over the Cuckoo's Nest (1975)</td>\n      <td>Wizard of Oz, The (1939)</td>\n      <td>E.T. the Extra-Terrestrial (1982)</td>\n    </tr>\n    <tr>\n      <th>4</th>\n      <td>Ben-Hur (1959)</td>\n      <td>Ben-Hur (1959)</td>\n      <td>Driving Miss Daisy (1989)</td>\n      <td>One Flew Over the Cuckoo's Nest (1975)</td>\n    </tr>\n    <tr>\n      <th>5</th>\n      <td>Saving Private Ryan (1998)</td>\n      <td>Saving Private Ryan (1998)</td>\n      <td>Saving Private Ryan (1998)</td>\n      <td>Saving Private Ryan (1998)</td>\n    </tr>\n    <tr>\n      <th>6</th>\n      <td>Christmas Story, A (1983)</td>\n      <td>Christmas Story, A (1983)</td>\n      <td>Miracle on 34th Street (1947)</td>\n      <td>Run Lola Run (Lola rennt) (1998)</td>\n    </tr>\n    <tr>\n      <th>7</th>\n      <td>Ferris Bueller's Day Off (1986)</td>\n      <td>Ferris Bueller's Day Off (1986)</td>\n      <td>Run Lola Run (Lola rennt) (1998)</td>\n      <td>Sixth Sense, The (1999)</td>\n    </tr>\n    <tr>\n      <th>8</th>\n      <td>Awakenings (1990)</td>\n      <td>Awakenings (1990)</td>\n      <td>Sixth Sense, The (1999)</td>\n      <td>Awakenings (1990)</td>\n    </tr>\n    <tr>\n      <th>9</th>\n      <td>Toy Story 2 (1999)</td>\n      <td>Toy Story 2 (1999)</td>\n      <td>Christmas Story, A (1983)</td>\n      <td>Girl, Interrupted (1999)</td>\n    </tr>\n  </tbody>\n</table>\n</div>"
     },
     "execution_count": 41,
     "metadata": {},
     "output_type": "execute_result"
    }
   ],
   "source": [
    "user1['SVD']= movies1\n",
    "user1"
   ],
   "metadata": {
    "collapsed": false
   }
  },
  {
   "cell_type": "code",
   "execution_count": 42,
   "outputs": [
    {
     "data": {
      "text/plain": "                                              Hybrid  \\\n0                                  Braveheart (1995)   \n1                         In the Line of Fire (1993)   \n2                   Last of the Mohicans, The (1992)   \n3  Austin Powers: International Man of Mystery (1...   \n4                             Full Monty, The (1997)   \n5                          Mask of Zorro, The (1998)   \n6                        Being John Malkovich (1999)   \n7                                 Toy Story 2 (1999)   \n8                                 Chicken Run (2000)   \n9                               Almost Famous (2000)   \n\n                                           KNN Basic  \\\n0                                  Braveheart (1995)   \n1                         In the Line of Fire (1993)   \n2                   Last of the Mohicans, The (1992)   \n3  Austin Powers: International Man of Mystery (1...   \n4                             Full Monty, The (1997)   \n5                                Office Space (1999)   \n6                        Being John Malkovich (1999)   \n7                                 Toy Story 2 (1999)   \n8                                 Chicken Run (2000)   \n9                               Almost Famous (2000)   \n\n                 KNN Baseline                          SVD  \n0  Rumble in the Bronx (1995)             Toy Story (1995)  \n1  In the Line of Fire (1993)            Braveheart (1995)  \n2                 Rudy (1993)          Forrest Gump (1994)  \n3  Grosse Pointe Blank (1997)               Aladdin (1992)  \n4              Contact (1997)              Sneakers (1992)  \n5  Saving Private Ryan (1998)   Saving Private Ryan (1998)  \n6      My Cousin Vinny (1992)             Airplane! (1980)  \n7   Enemy of the State (1998)       American Beauty (1999)  \n8         Office Space (1999)  Being John Malkovich (1999)  \n9        High Fidelity (2000)   Remember the Titans (2000)  ",
      "text/html": "<div>\n<style scoped>\n    .dataframe tbody tr th:only-of-type {\n        vertical-align: middle;\n    }\n\n    .dataframe tbody tr th {\n        vertical-align: top;\n    }\n\n    .dataframe thead th {\n        text-align: right;\n    }\n</style>\n<table border=\"1\" class=\"dataframe\">\n  <thead>\n    <tr style=\"text-align: right;\">\n      <th></th>\n      <th>Hybrid</th>\n      <th>KNN Basic</th>\n      <th>KNN Baseline</th>\n      <th>SVD</th>\n    </tr>\n  </thead>\n  <tbody>\n    <tr>\n      <th>0</th>\n      <td>Braveheart (1995)</td>\n      <td>Braveheart (1995)</td>\n      <td>Rumble in the Bronx (1995)</td>\n      <td>Toy Story (1995)</td>\n    </tr>\n    <tr>\n      <th>1</th>\n      <td>In the Line of Fire (1993)</td>\n      <td>In the Line of Fire (1993)</td>\n      <td>In the Line of Fire (1993)</td>\n      <td>Braveheart (1995)</td>\n    </tr>\n    <tr>\n      <th>2</th>\n      <td>Last of the Mohicans, The (1992)</td>\n      <td>Last of the Mohicans, The (1992)</td>\n      <td>Rudy (1993)</td>\n      <td>Forrest Gump (1994)</td>\n    </tr>\n    <tr>\n      <th>3</th>\n      <td>Austin Powers: International Man of Mystery (1...</td>\n      <td>Austin Powers: International Man of Mystery (1...</td>\n      <td>Grosse Pointe Blank (1997)</td>\n      <td>Aladdin (1992)</td>\n    </tr>\n    <tr>\n      <th>4</th>\n      <td>Full Monty, The (1997)</td>\n      <td>Full Monty, The (1997)</td>\n      <td>Contact (1997)</td>\n      <td>Sneakers (1992)</td>\n    </tr>\n    <tr>\n      <th>5</th>\n      <td>Mask of Zorro, The (1998)</td>\n      <td>Office Space (1999)</td>\n      <td>Saving Private Ryan (1998)</td>\n      <td>Saving Private Ryan (1998)</td>\n    </tr>\n    <tr>\n      <th>6</th>\n      <td>Being John Malkovich (1999)</td>\n      <td>Being John Malkovich (1999)</td>\n      <td>My Cousin Vinny (1992)</td>\n      <td>Airplane! (1980)</td>\n    </tr>\n    <tr>\n      <th>7</th>\n      <td>Toy Story 2 (1999)</td>\n      <td>Toy Story 2 (1999)</td>\n      <td>Enemy of the State (1998)</td>\n      <td>American Beauty (1999)</td>\n    </tr>\n    <tr>\n      <th>8</th>\n      <td>Chicken Run (2000)</td>\n      <td>Chicken Run (2000)</td>\n      <td>Office Space (1999)</td>\n      <td>Being John Malkovich (1999)</td>\n    </tr>\n    <tr>\n      <th>9</th>\n      <td>Almost Famous (2000)</td>\n      <td>Almost Famous (2000)</td>\n      <td>High Fidelity (2000)</td>\n      <td>Remember the Titans (2000)</td>\n    </tr>\n  </tbody>\n</table>\n</div>"
     },
     "execution_count": 42,
     "metadata": {},
     "output_type": "execute_result"
    }
   ],
   "source": [
    "user134['SVD']= movies134\n",
    "user134"
   ],
   "metadata": {
    "collapsed": false
   }
  },
  {
   "cell_type": "code",
   "execution_count": 43,
   "outputs": [
    {
     "data": {
      "text/plain": "                             Hybrid                         KNN Basic  \\\n0                Taxi Driver (1976)                Taxi Driver (1976)   \n1             Godfather, The (1972)             Godfather, The (1972)   \n2        Clockwork Orange, A (1971)          Dial M for Murder (1954)   \n3          Full Metal Jacket (1987)        Clockwork Orange, A (1971)   \n4                  Chinatown (1974)                  Chinatown (1974)   \n5  Manchurian Candidate, The (1962)  Manchurian Candidate, The (1962)   \n6         This Is Spinal Tap (1984)         This Is Spinal Tap (1984)   \n7                 Roger & Me (1989)  Run Lola Run (Lola rennt) (1998)   \n8                   Rushmore (1998)           Sixth Sense, The (1999)   \n9  Run Lola Run (Lola rennt) (1998)          Dog Day Afternoon (1975)   \n\n                                        KNN Baseline  \\\n0                                 Taxi Driver (1976)   \n1  Professional, The (a.k.a. Leon: The Profession...   \n2                                Blade Runner (1982)   \n3                                       Fargo (1996)   \n4                       2001: A Space Odyssey (1968)   \n5                     Raiders of the Lost Ark (1981)   \n6                                   Chinatown (1974)   \n7                             Raising Arizona (1987)   \n8                           L.A. Confidential (1997)   \n9                             Say Anything... (1989)   \n\n                                SVD  \n0             Twelve Monkeys (1995)  \n1               Blade Runner (1982)  \n2                 Annie Hall (1977)  \n3                 Sting, The (1973)  \n4                Stand by Me (1986)  \n5          L.A. Confidential (1997)  \n6  Run Lola Run (Lola rennt) (1998)  \n7            American Beauty (1999)  \n8                Wonder Boys (2000)  \n9               Best in Show (2000)  ",
      "text/html": "<div>\n<style scoped>\n    .dataframe tbody tr th:only-of-type {\n        vertical-align: middle;\n    }\n\n    .dataframe tbody tr th {\n        vertical-align: top;\n    }\n\n    .dataframe thead th {\n        text-align: right;\n    }\n</style>\n<table border=\"1\" class=\"dataframe\">\n  <thead>\n    <tr style=\"text-align: right;\">\n      <th></th>\n      <th>Hybrid</th>\n      <th>KNN Basic</th>\n      <th>KNN Baseline</th>\n      <th>SVD</th>\n    </tr>\n  </thead>\n  <tbody>\n    <tr>\n      <th>0</th>\n      <td>Taxi Driver (1976)</td>\n      <td>Taxi Driver (1976)</td>\n      <td>Taxi Driver (1976)</td>\n      <td>Twelve Monkeys (1995)</td>\n    </tr>\n    <tr>\n      <th>1</th>\n      <td>Godfather, The (1972)</td>\n      <td>Godfather, The (1972)</td>\n      <td>Professional, The (a.k.a. Leon: The Profession...</td>\n      <td>Blade Runner (1982)</td>\n    </tr>\n    <tr>\n      <th>2</th>\n      <td>Clockwork Orange, A (1971)</td>\n      <td>Dial M for Murder (1954)</td>\n      <td>Blade Runner (1982)</td>\n      <td>Annie Hall (1977)</td>\n    </tr>\n    <tr>\n      <th>3</th>\n      <td>Full Metal Jacket (1987)</td>\n      <td>Clockwork Orange, A (1971)</td>\n      <td>Fargo (1996)</td>\n      <td>Sting, The (1973)</td>\n    </tr>\n    <tr>\n      <th>4</th>\n      <td>Chinatown (1974)</td>\n      <td>Chinatown (1974)</td>\n      <td>2001: A Space Odyssey (1968)</td>\n      <td>Stand by Me (1986)</td>\n    </tr>\n    <tr>\n      <th>5</th>\n      <td>Manchurian Candidate, The (1962)</td>\n      <td>Manchurian Candidate, The (1962)</td>\n      <td>Raiders of the Lost Ark (1981)</td>\n      <td>L.A. Confidential (1997)</td>\n    </tr>\n    <tr>\n      <th>6</th>\n      <td>This Is Spinal Tap (1984)</td>\n      <td>This Is Spinal Tap (1984)</td>\n      <td>Chinatown (1974)</td>\n      <td>Run Lola Run (Lola rennt) (1998)</td>\n    </tr>\n    <tr>\n      <th>7</th>\n      <td>Roger &amp; Me (1989)</td>\n      <td>Run Lola Run (Lola rennt) (1998)</td>\n      <td>Raising Arizona (1987)</td>\n      <td>American Beauty (1999)</td>\n    </tr>\n    <tr>\n      <th>8</th>\n      <td>Rushmore (1998)</td>\n      <td>Sixth Sense, The (1999)</td>\n      <td>L.A. Confidential (1997)</td>\n      <td>Wonder Boys (2000)</td>\n    </tr>\n    <tr>\n      <th>9</th>\n      <td>Run Lola Run (Lola rennt) (1998)</td>\n      <td>Dog Day Afternoon (1975)</td>\n      <td>Say Anything... (1989)</td>\n      <td>Best in Show (2000)</td>\n    </tr>\n  </tbody>\n</table>\n</div>"
     },
     "execution_count": 43,
     "metadata": {},
     "output_type": "execute_result"
    }
   ],
   "source": [
    "user398['SVD']= movies398\n",
    "user398"
   ],
   "metadata": {
    "collapsed": false
   }
  },
  {
   "cell_type": "code",
   "execution_count": 44,
   "outputs": [
    {
     "data": {
      "text/plain": "['Twelve Monkeys (1995)',\n 'Blade Runner (1982)',\n 'Annie Hall (1977)',\n 'Sting, The (1973)',\n 'Stand by Me (1986)',\n 'L.A. Confidential (1997)',\n 'Saving Private Ryan (1998)',\n 'Run Lola Run (Lola rennt) (1998)',\n 'American Beauty (1999)',\n 'Wonder Boys (2000)']"
     },
     "execution_count": 44,
     "metadata": {},
     "output_type": "execute_result"
    }
   ],
   "source": [
    "# create top n list for SVDpp\n",
    "movies398=get_top_n_list(predictions_svdpp, 10, '398', movies_df)\n",
    "movies1=get_top_n_list(predictions_svdpp, 10, '1', movies_df)\n",
    "movies134=get_top_n_list(predictions_svdpp, 10, '134', movies_df)\n",
    "movies398"
   ],
   "metadata": {
    "collapsed": false
   }
  },
  {
   "cell_type": "code",
   "execution_count": 45,
   "outputs": [
    {
     "data": {
      "text/plain": "                                   Hybrid  \\\n0                            Fargo (1996)   \n1                             Gigi (1958)   \n2                       Cinderella (1950)   \n3  One Flew Over the Cuckoo's Nest (1975)   \n4                          Ben-Hur (1959)   \n5              Saving Private Ryan (1998)   \n6               Christmas Story, A (1983)   \n7         Ferris Bueller's Day Off (1986)   \n8                       Awakenings (1990)   \n9                      Toy Story 2 (1999)   \n\n                                KNN Basic  \\\n0                            Fargo (1996)   \n1                             Gigi (1958)   \n2                       Cinderella (1950)   \n3  One Flew Over the Cuckoo's Nest (1975)   \n4                          Ben-Hur (1959)   \n5              Saving Private Ryan (1998)   \n6               Christmas Story, A (1983)   \n7         Ferris Bueller's Day Off (1986)   \n8                       Awakenings (1990)   \n9                      Toy Story 2 (1999)   \n\n                                KNN Baseline  \\\n0  Star Wars: Episode IV - A New Hope (1977)   \n1                    Schindler's List (1993)   \n2                        My Fair Lady (1964)   \n3                   Wizard of Oz, The (1939)   \n4                  Driving Miss Daisy (1989)   \n5                 Saving Private Ryan (1998)   \n6              Miracle on 34th Street (1947)   \n7           Run Lola Run (Lola rennt) (1998)   \n8                    Sixth Sense, The (1999)   \n9                  Christmas Story, A (1983)   \n\n                                      SVD  \\\n0                        Toy Story (1995)   \n1               Secret Garden, The (1993)   \n2                     Mary Poppins (1964)   \n3       E.T. the Extra-Terrestrial (1982)   \n4  One Flew Over the Cuckoo's Nest (1975)   \n5              Saving Private Ryan (1998)   \n6        Run Lola Run (Lola rennt) (1998)   \n7                 Sixth Sense, The (1999)   \n8                       Awakenings (1990)   \n9                Girl, Interrupted (1999)   \n\n                                    SVD++  \n0                        Toy Story (1995)  \n1               Secret Garden, The (1993)  \n2                     Mary Poppins (1964)  \n3       E.T. the Extra-Terrestrial (1982)  \n4  One Flew Over the Cuckoo's Nest (1975)  \n5              Saving Private Ryan (1998)  \n6        Run Lola Run (Lola rennt) (1998)  \n7                 Sixth Sense, The (1999)  \n8                       Awakenings (1990)  \n9                Girl, Interrupted (1999)  ",
      "text/html": "<div>\n<style scoped>\n    .dataframe tbody tr th:only-of-type {\n        vertical-align: middle;\n    }\n\n    .dataframe tbody tr th {\n        vertical-align: top;\n    }\n\n    .dataframe thead th {\n        text-align: right;\n    }\n</style>\n<table border=\"1\" class=\"dataframe\">\n  <thead>\n    <tr style=\"text-align: right;\">\n      <th></th>\n      <th>Hybrid</th>\n      <th>KNN Basic</th>\n      <th>KNN Baseline</th>\n      <th>SVD</th>\n      <th>SVD++</th>\n    </tr>\n  </thead>\n  <tbody>\n    <tr>\n      <th>0</th>\n      <td>Fargo (1996)</td>\n      <td>Fargo (1996)</td>\n      <td>Star Wars: Episode IV - A New Hope (1977)</td>\n      <td>Toy Story (1995)</td>\n      <td>Toy Story (1995)</td>\n    </tr>\n    <tr>\n      <th>1</th>\n      <td>Gigi (1958)</td>\n      <td>Gigi (1958)</td>\n      <td>Schindler's List (1993)</td>\n      <td>Secret Garden, The (1993)</td>\n      <td>Secret Garden, The (1993)</td>\n    </tr>\n    <tr>\n      <th>2</th>\n      <td>Cinderella (1950)</td>\n      <td>Cinderella (1950)</td>\n      <td>My Fair Lady (1964)</td>\n      <td>Mary Poppins (1964)</td>\n      <td>Mary Poppins (1964)</td>\n    </tr>\n    <tr>\n      <th>3</th>\n      <td>One Flew Over the Cuckoo's Nest (1975)</td>\n      <td>One Flew Over the Cuckoo's Nest (1975)</td>\n      <td>Wizard of Oz, The (1939)</td>\n      <td>E.T. the Extra-Terrestrial (1982)</td>\n      <td>E.T. the Extra-Terrestrial (1982)</td>\n    </tr>\n    <tr>\n      <th>4</th>\n      <td>Ben-Hur (1959)</td>\n      <td>Ben-Hur (1959)</td>\n      <td>Driving Miss Daisy (1989)</td>\n      <td>One Flew Over the Cuckoo's Nest (1975)</td>\n      <td>One Flew Over the Cuckoo's Nest (1975)</td>\n    </tr>\n    <tr>\n      <th>5</th>\n      <td>Saving Private Ryan (1998)</td>\n      <td>Saving Private Ryan (1998)</td>\n      <td>Saving Private Ryan (1998)</td>\n      <td>Saving Private Ryan (1998)</td>\n      <td>Saving Private Ryan (1998)</td>\n    </tr>\n    <tr>\n      <th>6</th>\n      <td>Christmas Story, A (1983)</td>\n      <td>Christmas Story, A (1983)</td>\n      <td>Miracle on 34th Street (1947)</td>\n      <td>Run Lola Run (Lola rennt) (1998)</td>\n      <td>Run Lola Run (Lola rennt) (1998)</td>\n    </tr>\n    <tr>\n      <th>7</th>\n      <td>Ferris Bueller's Day Off (1986)</td>\n      <td>Ferris Bueller's Day Off (1986)</td>\n      <td>Run Lola Run (Lola rennt) (1998)</td>\n      <td>Sixth Sense, The (1999)</td>\n      <td>Sixth Sense, The (1999)</td>\n    </tr>\n    <tr>\n      <th>8</th>\n      <td>Awakenings (1990)</td>\n      <td>Awakenings (1990)</td>\n      <td>Sixth Sense, The (1999)</td>\n      <td>Awakenings (1990)</td>\n      <td>Awakenings (1990)</td>\n    </tr>\n    <tr>\n      <th>9</th>\n      <td>Toy Story 2 (1999)</td>\n      <td>Toy Story 2 (1999)</td>\n      <td>Christmas Story, A (1983)</td>\n      <td>Girl, Interrupted (1999)</td>\n      <td>Girl, Interrupted (1999)</td>\n    </tr>\n  </tbody>\n</table>\n</div>"
     },
     "execution_count": 45,
     "metadata": {},
     "output_type": "execute_result"
    }
   ],
   "source": [
    "user1['SVD++']= movies1\n",
    "user1"
   ],
   "metadata": {
    "collapsed": false
   }
  },
  {
   "cell_type": "code",
   "execution_count": 46,
   "outputs": [
    {
     "data": {
      "text/plain": "                                              Hybrid  \\\n0                                  Braveheart (1995)   \n1                         In the Line of Fire (1993)   \n2                   Last of the Mohicans, The (1992)   \n3  Austin Powers: International Man of Mystery (1...   \n4                             Full Monty, The (1997)   \n5                          Mask of Zorro, The (1998)   \n6                        Being John Malkovich (1999)   \n7                                 Toy Story 2 (1999)   \n8                                 Chicken Run (2000)   \n9                               Almost Famous (2000)   \n\n                                           KNN Basic  \\\n0                                  Braveheart (1995)   \n1                         In the Line of Fire (1993)   \n2                   Last of the Mohicans, The (1992)   \n3  Austin Powers: International Man of Mystery (1...   \n4                             Full Monty, The (1997)   \n5                                Office Space (1999)   \n6                        Being John Malkovich (1999)   \n7                                 Toy Story 2 (1999)   \n8                                 Chicken Run (2000)   \n9                               Almost Famous (2000)   \n\n                 KNN Baseline                          SVD  \\\n0  Rumble in the Bronx (1995)             Toy Story (1995)   \n1  In the Line of Fire (1993)            Braveheart (1995)   \n2                 Rudy (1993)          Forrest Gump (1994)   \n3  Grosse Pointe Blank (1997)               Aladdin (1992)   \n4              Contact (1997)              Sneakers (1992)   \n5  Saving Private Ryan (1998)   Saving Private Ryan (1998)   \n6      My Cousin Vinny (1992)             Airplane! (1980)   \n7   Enemy of the State (1998)       American Beauty (1999)   \n8         Office Space (1999)  Being John Malkovich (1999)   \n9        High Fidelity (2000)   Remember the Titans (2000)   \n\n                         SVD++  \n0             Toy Story (1995)  \n1            Braveheart (1995)  \n2          Forrest Gump (1994)  \n3               Aladdin (1992)  \n4              Sneakers (1992)  \n5   Saving Private Ryan (1998)  \n6       American Beauty (1999)  \n7  Being John Malkovich (1999)  \n8         Patriot Games (1992)  \n9   Remember the Titans (2000)  ",
      "text/html": "<div>\n<style scoped>\n    .dataframe tbody tr th:only-of-type {\n        vertical-align: middle;\n    }\n\n    .dataframe tbody tr th {\n        vertical-align: top;\n    }\n\n    .dataframe thead th {\n        text-align: right;\n    }\n</style>\n<table border=\"1\" class=\"dataframe\">\n  <thead>\n    <tr style=\"text-align: right;\">\n      <th></th>\n      <th>Hybrid</th>\n      <th>KNN Basic</th>\n      <th>KNN Baseline</th>\n      <th>SVD</th>\n      <th>SVD++</th>\n    </tr>\n  </thead>\n  <tbody>\n    <tr>\n      <th>0</th>\n      <td>Braveheart (1995)</td>\n      <td>Braveheart (1995)</td>\n      <td>Rumble in the Bronx (1995)</td>\n      <td>Toy Story (1995)</td>\n      <td>Toy Story (1995)</td>\n    </tr>\n    <tr>\n      <th>1</th>\n      <td>In the Line of Fire (1993)</td>\n      <td>In the Line of Fire (1993)</td>\n      <td>In the Line of Fire (1993)</td>\n      <td>Braveheart (1995)</td>\n      <td>Braveheart (1995)</td>\n    </tr>\n    <tr>\n      <th>2</th>\n      <td>Last of the Mohicans, The (1992)</td>\n      <td>Last of the Mohicans, The (1992)</td>\n      <td>Rudy (1993)</td>\n      <td>Forrest Gump (1994)</td>\n      <td>Forrest Gump (1994)</td>\n    </tr>\n    <tr>\n      <th>3</th>\n      <td>Austin Powers: International Man of Mystery (1...</td>\n      <td>Austin Powers: International Man of Mystery (1...</td>\n      <td>Grosse Pointe Blank (1997)</td>\n      <td>Aladdin (1992)</td>\n      <td>Aladdin (1992)</td>\n    </tr>\n    <tr>\n      <th>4</th>\n      <td>Full Monty, The (1997)</td>\n      <td>Full Monty, The (1997)</td>\n      <td>Contact (1997)</td>\n      <td>Sneakers (1992)</td>\n      <td>Sneakers (1992)</td>\n    </tr>\n    <tr>\n      <th>5</th>\n      <td>Mask of Zorro, The (1998)</td>\n      <td>Office Space (1999)</td>\n      <td>Saving Private Ryan (1998)</td>\n      <td>Saving Private Ryan (1998)</td>\n      <td>Saving Private Ryan (1998)</td>\n    </tr>\n    <tr>\n      <th>6</th>\n      <td>Being John Malkovich (1999)</td>\n      <td>Being John Malkovich (1999)</td>\n      <td>My Cousin Vinny (1992)</td>\n      <td>Airplane! (1980)</td>\n      <td>American Beauty (1999)</td>\n    </tr>\n    <tr>\n      <th>7</th>\n      <td>Toy Story 2 (1999)</td>\n      <td>Toy Story 2 (1999)</td>\n      <td>Enemy of the State (1998)</td>\n      <td>American Beauty (1999)</td>\n      <td>Being John Malkovich (1999)</td>\n    </tr>\n    <tr>\n      <th>8</th>\n      <td>Chicken Run (2000)</td>\n      <td>Chicken Run (2000)</td>\n      <td>Office Space (1999)</td>\n      <td>Being John Malkovich (1999)</td>\n      <td>Patriot Games (1992)</td>\n    </tr>\n    <tr>\n      <th>9</th>\n      <td>Almost Famous (2000)</td>\n      <td>Almost Famous (2000)</td>\n      <td>High Fidelity (2000)</td>\n      <td>Remember the Titans (2000)</td>\n      <td>Remember the Titans (2000)</td>\n    </tr>\n  </tbody>\n</table>\n</div>"
     },
     "execution_count": 46,
     "metadata": {},
     "output_type": "execute_result"
    }
   ],
   "source": [
    "user134['SVD++']= movies134\n",
    "user134"
   ],
   "metadata": {
    "collapsed": false
   }
  },
  {
   "cell_type": "code",
   "execution_count": 47,
   "outputs": [
    {
     "data": {
      "text/plain": "                             Hybrid                         KNN Basic  \\\n0                Taxi Driver (1976)                Taxi Driver (1976)   \n1             Godfather, The (1972)             Godfather, The (1972)   \n2        Clockwork Orange, A (1971)          Dial M for Murder (1954)   \n3          Full Metal Jacket (1987)        Clockwork Orange, A (1971)   \n4                  Chinatown (1974)                  Chinatown (1974)   \n5  Manchurian Candidate, The (1962)  Manchurian Candidate, The (1962)   \n6         This Is Spinal Tap (1984)         This Is Spinal Tap (1984)   \n7                 Roger & Me (1989)  Run Lola Run (Lola rennt) (1998)   \n8                   Rushmore (1998)           Sixth Sense, The (1999)   \n9  Run Lola Run (Lola rennt) (1998)          Dog Day Afternoon (1975)   \n\n                                        KNN Baseline  \\\n0                                 Taxi Driver (1976)   \n1  Professional, The (a.k.a. Leon: The Profession...   \n2                                Blade Runner (1982)   \n3                                       Fargo (1996)   \n4                       2001: A Space Odyssey (1968)   \n5                     Raiders of the Lost Ark (1981)   \n6                                   Chinatown (1974)   \n7                             Raising Arizona (1987)   \n8                           L.A. Confidential (1997)   \n9                             Say Anything... (1989)   \n\n                                SVD                             SVD++  \n0             Twelve Monkeys (1995)             Twelve Monkeys (1995)  \n1               Blade Runner (1982)               Blade Runner (1982)  \n2                 Annie Hall (1977)                 Annie Hall (1977)  \n3                 Sting, The (1973)                 Sting, The (1973)  \n4                Stand by Me (1986)                Stand by Me (1986)  \n5          L.A. Confidential (1997)          L.A. Confidential (1997)  \n6  Run Lola Run (Lola rennt) (1998)        Saving Private Ryan (1998)  \n7            American Beauty (1999)  Run Lola Run (Lola rennt) (1998)  \n8                Wonder Boys (2000)            American Beauty (1999)  \n9               Best in Show (2000)                Wonder Boys (2000)  ",
      "text/html": "<div>\n<style scoped>\n    .dataframe tbody tr th:only-of-type {\n        vertical-align: middle;\n    }\n\n    .dataframe tbody tr th {\n        vertical-align: top;\n    }\n\n    .dataframe thead th {\n        text-align: right;\n    }\n</style>\n<table border=\"1\" class=\"dataframe\">\n  <thead>\n    <tr style=\"text-align: right;\">\n      <th></th>\n      <th>Hybrid</th>\n      <th>KNN Basic</th>\n      <th>KNN Baseline</th>\n      <th>SVD</th>\n      <th>SVD++</th>\n    </tr>\n  </thead>\n  <tbody>\n    <tr>\n      <th>0</th>\n      <td>Taxi Driver (1976)</td>\n      <td>Taxi Driver (1976)</td>\n      <td>Taxi Driver (1976)</td>\n      <td>Twelve Monkeys (1995)</td>\n      <td>Twelve Monkeys (1995)</td>\n    </tr>\n    <tr>\n      <th>1</th>\n      <td>Godfather, The (1972)</td>\n      <td>Godfather, The (1972)</td>\n      <td>Professional, The (a.k.a. Leon: The Profession...</td>\n      <td>Blade Runner (1982)</td>\n      <td>Blade Runner (1982)</td>\n    </tr>\n    <tr>\n      <th>2</th>\n      <td>Clockwork Orange, A (1971)</td>\n      <td>Dial M for Murder (1954)</td>\n      <td>Blade Runner (1982)</td>\n      <td>Annie Hall (1977)</td>\n      <td>Annie Hall (1977)</td>\n    </tr>\n    <tr>\n      <th>3</th>\n      <td>Full Metal Jacket (1987)</td>\n      <td>Clockwork Orange, A (1971)</td>\n      <td>Fargo (1996)</td>\n      <td>Sting, The (1973)</td>\n      <td>Sting, The (1973)</td>\n    </tr>\n    <tr>\n      <th>4</th>\n      <td>Chinatown (1974)</td>\n      <td>Chinatown (1974)</td>\n      <td>2001: A Space Odyssey (1968)</td>\n      <td>Stand by Me (1986)</td>\n      <td>Stand by Me (1986)</td>\n    </tr>\n    <tr>\n      <th>5</th>\n      <td>Manchurian Candidate, The (1962)</td>\n      <td>Manchurian Candidate, The (1962)</td>\n      <td>Raiders of the Lost Ark (1981)</td>\n      <td>L.A. Confidential (1997)</td>\n      <td>L.A. Confidential (1997)</td>\n    </tr>\n    <tr>\n      <th>6</th>\n      <td>This Is Spinal Tap (1984)</td>\n      <td>This Is Spinal Tap (1984)</td>\n      <td>Chinatown (1974)</td>\n      <td>Run Lola Run (Lola rennt) (1998)</td>\n      <td>Saving Private Ryan (1998)</td>\n    </tr>\n    <tr>\n      <th>7</th>\n      <td>Roger &amp; Me (1989)</td>\n      <td>Run Lola Run (Lola rennt) (1998)</td>\n      <td>Raising Arizona (1987)</td>\n      <td>American Beauty (1999)</td>\n      <td>Run Lola Run (Lola rennt) (1998)</td>\n    </tr>\n    <tr>\n      <th>8</th>\n      <td>Rushmore (1998)</td>\n      <td>Sixth Sense, The (1999)</td>\n      <td>L.A. Confidential (1997)</td>\n      <td>Wonder Boys (2000)</td>\n      <td>American Beauty (1999)</td>\n    </tr>\n    <tr>\n      <th>9</th>\n      <td>Run Lola Run (Lola rennt) (1998)</td>\n      <td>Dog Day Afternoon (1975)</td>\n      <td>Say Anything... (1989)</td>\n      <td>Best in Show (2000)</td>\n      <td>Wonder Boys (2000)</td>\n    </tr>\n  </tbody>\n</table>\n</div>"
     },
     "execution_count": 47,
     "metadata": {},
     "output_type": "execute_result"
    }
   ],
   "source": [
    "user398['SVD++']= movies398\n",
    "user398"
   ],
   "metadata": {
    "collapsed": false
   }
  },
  {
   "cell_type": "code",
   "execution_count": 48,
   "outputs": [
    {
     "data": {
      "text/plain": "['Forrest Gump (1994)',\n 'Blade Runner (1982)',\n 'Bananas (1971)',\n 'Annie Hall (1977)',\n 'Sting, The (1973)',\n 'Stand by Me (1986)',\n 'Butch Cassidy and the Sundance Kid (1969)',\n 'Saving Private Ryan (1998)',\n 'Run Lola Run (Lola rennt) (1998)',\n 'American Beauty (1999)']"
     },
     "execution_count": 48,
     "metadata": {},
     "output_type": "execute_result"
    }
   ],
   "source": [
    "movies398=get_top_n_list(predictions_nmfb, 10, '398', movies_df)\n",
    "movies1=get_top_n_list(predictions_nmfb, 10, '1', movies_df)\n",
    "movies134=get_top_n_list(predictions_nmfb, 10, '134', movies_df)\n",
    "movies398"
   ],
   "metadata": {
    "collapsed": false
   }
  },
  {
   "cell_type": "code",
   "execution_count": 49,
   "outputs": [],
   "source": [
    "user1['NMF (Bias)']= movies1\n",
    "user134['NMF (Bias)']= movies134\n",
    "user398['NMF (Bias)']= movies398"
   ],
   "metadata": {
    "collapsed": false
   }
  },
  {
   "cell_type": "code",
   "execution_count": 50,
   "outputs": [],
   "source": [
    "movies398=get_top_n_list(predictions_nmf, 10, '398', movies_df)\n",
    "movies1=get_top_n_list(predictions_nmf, 10, '1', movies_df)\n",
    "movies134=get_top_n_list(predictions_nmf, 10, '134', movies_df)\n",
    "user1['NMF (Unbias)']= movies1\n",
    "user134['NMF (Unbias)']= movies134\n",
    "user398['NMF (Unbias)']= movies398"
   ],
   "metadata": {
    "collapsed": false
   }
  },
  {
   "cell_type": "code",
   "execution_count": 51,
   "outputs": [
    {
     "data": {
      "text/plain": "                             Hybrid                         KNN Basic  \\\n0                Taxi Driver (1976)                Taxi Driver (1976)   \n1             Godfather, The (1972)             Godfather, The (1972)   \n2        Clockwork Orange, A (1971)          Dial M for Murder (1954)   \n3          Full Metal Jacket (1987)        Clockwork Orange, A (1971)   \n4                  Chinatown (1974)                  Chinatown (1974)   \n5  Manchurian Candidate, The (1962)  Manchurian Candidate, The (1962)   \n6         This Is Spinal Tap (1984)         This Is Spinal Tap (1984)   \n7                 Roger & Me (1989)  Run Lola Run (Lola rennt) (1998)   \n8                   Rushmore (1998)           Sixth Sense, The (1999)   \n9  Run Lola Run (Lola rennt) (1998)          Dog Day Afternoon (1975)   \n\n                                        KNN Baseline  \\\n0                                 Taxi Driver (1976)   \n1  Professional, The (a.k.a. Leon: The Profession...   \n2                                Blade Runner (1982)   \n3                                       Fargo (1996)   \n4                       2001: A Space Odyssey (1968)   \n5                     Raiders of the Lost Ark (1981)   \n6                                   Chinatown (1974)   \n7                             Raising Arizona (1987)   \n8                           L.A. Confidential (1997)   \n9                             Say Anything... (1989)   \n\n                                SVD                             SVD++  \\\n0             Twelve Monkeys (1995)             Twelve Monkeys (1995)   \n1               Blade Runner (1982)               Blade Runner (1982)   \n2                 Annie Hall (1977)                 Annie Hall (1977)   \n3                 Sting, The (1973)                 Sting, The (1973)   \n4                Stand by Me (1986)                Stand by Me (1986)   \n5          L.A. Confidential (1997)          L.A. Confidential (1997)   \n6  Run Lola Run (Lola rennt) (1998)        Saving Private Ryan (1998)   \n7            American Beauty (1999)  Run Lola Run (Lola rennt) (1998)   \n8                Wonder Boys (2000)            American Beauty (1999)   \n9               Best in Show (2000)                Wonder Boys (2000)   \n\n                                  NMF (Bias)  \\\n0                        Forrest Gump (1994)   \n1                        Blade Runner (1982)   \n2                             Bananas (1971)   \n3                          Annie Hall (1977)   \n4                          Sting, The (1973)   \n5                         Stand by Me (1986)   \n6  Butch Cassidy and the Sundance Kid (1969)   \n7                 Saving Private Ryan (1998)   \n8           Run Lola Run (Lola rennt) (1998)   \n9                     American Beauty (1999)   \n\n                                NMF (Unbias)  \n0                        Blade Runner (1982)  \n1                          Sting, The (1973)  \n2                            Heathers (1989)  \n3  Butch Cassidy and the Sundance Kid (1969)  \n4                   L.A. Confidential (1997)  \n5                 Saving Private Ryan (1998)  \n6           Run Lola Run (Lola rennt) (1998)  \n7                     American Beauty (1999)  \n8                         Wonder Boys (2000)  \n9                        Animal House (1978)  ",
      "text/html": "<div>\n<style scoped>\n    .dataframe tbody tr th:only-of-type {\n        vertical-align: middle;\n    }\n\n    .dataframe tbody tr th {\n        vertical-align: top;\n    }\n\n    .dataframe thead th {\n        text-align: right;\n    }\n</style>\n<table border=\"1\" class=\"dataframe\">\n  <thead>\n    <tr style=\"text-align: right;\">\n      <th></th>\n      <th>Hybrid</th>\n      <th>KNN Basic</th>\n      <th>KNN Baseline</th>\n      <th>SVD</th>\n      <th>SVD++</th>\n      <th>NMF (Bias)</th>\n      <th>NMF (Unbias)</th>\n    </tr>\n  </thead>\n  <tbody>\n    <tr>\n      <th>0</th>\n      <td>Taxi Driver (1976)</td>\n      <td>Taxi Driver (1976)</td>\n      <td>Taxi Driver (1976)</td>\n      <td>Twelve Monkeys (1995)</td>\n      <td>Twelve Monkeys (1995)</td>\n      <td>Forrest Gump (1994)</td>\n      <td>Blade Runner (1982)</td>\n    </tr>\n    <tr>\n      <th>1</th>\n      <td>Godfather, The (1972)</td>\n      <td>Godfather, The (1972)</td>\n      <td>Professional, The (a.k.a. Leon: The Profession...</td>\n      <td>Blade Runner (1982)</td>\n      <td>Blade Runner (1982)</td>\n      <td>Blade Runner (1982)</td>\n      <td>Sting, The (1973)</td>\n    </tr>\n    <tr>\n      <th>2</th>\n      <td>Clockwork Orange, A (1971)</td>\n      <td>Dial M for Murder (1954)</td>\n      <td>Blade Runner (1982)</td>\n      <td>Annie Hall (1977)</td>\n      <td>Annie Hall (1977)</td>\n      <td>Bananas (1971)</td>\n      <td>Heathers (1989)</td>\n    </tr>\n    <tr>\n      <th>3</th>\n      <td>Full Metal Jacket (1987)</td>\n      <td>Clockwork Orange, A (1971)</td>\n      <td>Fargo (1996)</td>\n      <td>Sting, The (1973)</td>\n      <td>Sting, The (1973)</td>\n      <td>Annie Hall (1977)</td>\n      <td>Butch Cassidy and the Sundance Kid (1969)</td>\n    </tr>\n    <tr>\n      <th>4</th>\n      <td>Chinatown (1974)</td>\n      <td>Chinatown (1974)</td>\n      <td>2001: A Space Odyssey (1968)</td>\n      <td>Stand by Me (1986)</td>\n      <td>Stand by Me (1986)</td>\n      <td>Sting, The (1973)</td>\n      <td>L.A. Confidential (1997)</td>\n    </tr>\n    <tr>\n      <th>5</th>\n      <td>Manchurian Candidate, The (1962)</td>\n      <td>Manchurian Candidate, The (1962)</td>\n      <td>Raiders of the Lost Ark (1981)</td>\n      <td>L.A. Confidential (1997)</td>\n      <td>L.A. Confidential (1997)</td>\n      <td>Stand by Me (1986)</td>\n      <td>Saving Private Ryan (1998)</td>\n    </tr>\n    <tr>\n      <th>6</th>\n      <td>This Is Spinal Tap (1984)</td>\n      <td>This Is Spinal Tap (1984)</td>\n      <td>Chinatown (1974)</td>\n      <td>Run Lola Run (Lola rennt) (1998)</td>\n      <td>Saving Private Ryan (1998)</td>\n      <td>Butch Cassidy and the Sundance Kid (1969)</td>\n      <td>Run Lola Run (Lola rennt) (1998)</td>\n    </tr>\n    <tr>\n      <th>7</th>\n      <td>Roger &amp; Me (1989)</td>\n      <td>Run Lola Run (Lola rennt) (1998)</td>\n      <td>Raising Arizona (1987)</td>\n      <td>American Beauty (1999)</td>\n      <td>Run Lola Run (Lola rennt) (1998)</td>\n      <td>Saving Private Ryan (1998)</td>\n      <td>American Beauty (1999)</td>\n    </tr>\n    <tr>\n      <th>8</th>\n      <td>Rushmore (1998)</td>\n      <td>Sixth Sense, The (1999)</td>\n      <td>L.A. Confidential (1997)</td>\n      <td>Wonder Boys (2000)</td>\n      <td>American Beauty (1999)</td>\n      <td>Run Lola Run (Lola rennt) (1998)</td>\n      <td>Wonder Boys (2000)</td>\n    </tr>\n    <tr>\n      <th>9</th>\n      <td>Run Lola Run (Lola rennt) (1998)</td>\n      <td>Dog Day Afternoon (1975)</td>\n      <td>Say Anything... (1989)</td>\n      <td>Best in Show (2000)</td>\n      <td>Wonder Boys (2000)</td>\n      <td>American Beauty (1999)</td>\n      <td>Animal House (1978)</td>\n    </tr>\n  </tbody>\n</table>\n</div>"
     },
     "execution_count": 51,
     "metadata": {},
     "output_type": "execute_result"
    }
   ],
   "source": [
    "user398"
   ],
   "metadata": {
    "collapsed": false
   }
  },
  {
   "cell_type": "code",
   "execution_count": 53,
   "outputs": [],
   "source": [
    "# rewrite the prediction lists to file\n",
    "user134.to_csv('./predictions/134.csv', index=False)\n",
    "user1.to_csv('./predictions/1.csv', index=False)\n",
    "user398.to_csv('./predictions/398.csv', index=False)"
   ],
   "metadata": {
    "collapsed": false
   }
  },
  {
   "cell_type": "code",
   "execution_count": null,
   "outputs": [],
   "source": [],
   "metadata": {
    "collapsed": false
   }
  }
 ],
 "metadata": {
  "kernelspec": {
   "display_name": "Python 3",
   "language": "python",
   "name": "python3"
  },
  "language_info": {
   "codemirror_mode": {
    "name": "ipython",
    "version": 2
   },
   "file_extension": ".py",
   "mimetype": "text/x-python",
   "name": "python",
   "nbconvert_exporter": "python",
   "pygments_lexer": "ipython2",
   "version": "2.7.6"
  }
 },
 "nbformat": 4,
 "nbformat_minor": 0
}
