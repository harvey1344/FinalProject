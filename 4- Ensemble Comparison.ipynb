{
 "cells": [
  {
   "cell_type": "markdown",
   "source": [
    "This notebook contains the code comparing my own KNN ensemble v1 and v2\n"
   ],
   "metadata": {
    "collapsed": false
   }
  },
  {
   "cell_type": "code",
   "execution_count": 1,
   "outputs": [],
   "source": [
    "# import libraries\n",
    "from surprise import Dataset\n",
    "from own_algorithms.UserItemKNN import UserItemKNN\n",
    "from own_algorithms.UserItemKNNv2 import UserItemKNNv2\n",
    "from own_algorithms.helper import testing_algorithm\n",
    "import pandas as pd\n",
    "import numpy as np\n",
    "import matplotlib.pyplot as plt\n",
    "import random"
   ],
   "metadata": {
    "collapsed": false
   }
  },
  {
   "cell_type": "code",
   "execution_count": 2,
   "outputs": [],
   "source": [
    "# load data and split into A/B sets, A for CFV and B for unbiased testing\n",
    "# Load the data using the built-in function\n",
    "data = Dataset.load_builtin('ml-100k')\n",
    "raw_ratings= data.raw_ratings\n",
    "\n",
    "random.seed(2001)\n",
    "np.random.seed(2001)\n",
    "random.shuffle(raw_ratings)\n",
    "\n",
    "# create threshold for unseen, 80-20\n",
    "cutoff = int(0.8 * len(raw_ratings))\n",
    "A_raw= raw_ratings[:cutoff]\n",
    "B_raw= raw_ratings[cutoff:]\n",
    "\n",
    "# data is now only set A ratings\n",
    "data.raw_ratings= A_raw"
   ],
   "metadata": {
    "collapsed": false
   }
  },
  {
   "cell_type": "code",
   "execution_count": 3,
   "outputs": [],
   "source": [
    "v1= testing_algorithm(UserItemKNN(), data)\n",
    "v2= testing_algorithm(UserItemKNNv2(), data)"
   ],
   "metadata": {
    "collapsed": false
   }
  },
  {
   "cell_type": "code",
   "execution_count": 4,
   "outputs": [
    {
     "name": "stdout",
     "output_type": "stream",
     "text": [
      "[0.97662228 0.95380889 0.77932996 1.31981606 3.17798615]\n",
      "[0.9715661  0.94395869 0.77783036 1.4122004  3.4423924 ]\n"
     ]
    }
   ],
   "source": [
    "print(v1)\n",
    "print(v2)"
   ],
   "metadata": {
    "collapsed": false
   }
  },
  {
   "cell_type": "code",
   "execution_count": 5,
   "outputs": [
    {
     "data": {
      "text/plain": "    Algorithm      RMSE       MSE       MAE  Fit Time  Predict Time\n0  User-Based  0.989869  0.979859  0.783560  0.288202      1.676250\n1  Item-Based  0.989914  0.979943  0.782299  0.207619      1.445565",
      "text/html": "<div>\n<style scoped>\n    .dataframe tbody tr th:only-of-type {\n        vertical-align: middle;\n    }\n\n    .dataframe tbody tr th {\n        vertical-align: top;\n    }\n\n    .dataframe thead th {\n        text-align: right;\n    }\n</style>\n<table border=\"1\" class=\"dataframe\">\n  <thead>\n    <tr style=\"text-align: right;\">\n      <th></th>\n      <th>Algorithm</th>\n      <th>RMSE</th>\n      <th>MSE</th>\n      <th>MAE</th>\n      <th>Fit Time</th>\n      <th>Predict Time</th>\n    </tr>\n  </thead>\n  <tbody>\n    <tr>\n      <th>0</th>\n      <td>User-Based</td>\n      <td>0.989869</td>\n      <td>0.979859</td>\n      <td>0.783560</td>\n      <td>0.288202</td>\n      <td>1.676250</td>\n    </tr>\n    <tr>\n      <th>1</th>\n      <td>Item-Based</td>\n      <td>0.989914</td>\n      <td>0.979943</td>\n      <td>0.782299</td>\n      <td>0.207619</td>\n      <td>1.445565</td>\n    </tr>\n  </tbody>\n</table>\n</div>"
     },
     "execution_count": 5,
     "metadata": {},
     "output_type": "execute_result"
    }
   ],
   "source": [
    "knn_data= pd.read_csv('./algo_data/KNNBasic_defaultK_User_Item.csv')\n",
    "knn_data"
   ],
   "metadata": {
    "collapsed": false
   }
  },
  {
   "cell_type": "markdown",
   "source": [],
   "metadata": {
    "collapsed": false
   }
  },
  {
   "cell_type": "code",
   "execution_count": 6,
   "outputs": [
    {
     "name": "stderr",
     "output_type": "stream",
     "text": [
      "C:\\Users\\harvey\\AppData\\Local\\Temp\\ipykernel_21308\\4163075094.py:2: FutureWarning: The frame.append method is deprecated and will be removed from pandas in a future version. Use pandas.concat instead.\n",
      "  results = knn_data.append(new_row, ignore_index=True)\n",
      "C:\\Users\\harvey\\AppData\\Local\\Temp\\ipykernel_21308\\4163075094.py:4: FutureWarning: The frame.append method is deprecated and will be removed from pandas in a future version. Use pandas.concat instead.\n",
      "  results = results.append(new_row, ignore_index=True)\n"
     ]
    }
   ],
   "source": [
    "new_row={'Algorithm': 'Hybrid', 'RMSE':v1[0], 'MSE':v1[1], 'MAE':v1[2], 'Fit Time':v1[3], 'Predict Time':v1[4]}\n",
    "results = knn_data.append(new_row, ignore_index=True)\n",
    "new_row={'Algorithm': 'Hybrid_V2', 'RMSE':v2[0], 'MSE':v2[1], 'MAE':v2[2], 'Fit Time':v2[3], 'Predict Time':v2[4]}\n",
    "results = results.append(new_row, ignore_index=True)\n"
   ],
   "metadata": {
    "collapsed": false
   }
  },
  {
   "cell_type": "code",
   "execution_count": 7,
   "outputs": [],
   "source": [
    "results\n",
    "results.to_csv('./algo_data/KNN_UB_IB_HB.csv')"
   ],
   "metadata": {
    "collapsed": false
   }
  },
  {
   "cell_type": "code",
   "execution_count": 8,
   "outputs": [],
   "source": [
    "# pull the accuracy values from the results dataframe\n",
    "ub= results.loc[0].values[1:3]\n",
    "ib= results.loc[1].values[1:3]\n",
    "hb= results.loc[2].values[1:3]\n",
    "hb2= results.loc[3].values[1:3]\n"
   ],
   "metadata": {
    "collapsed": false
   }
  },
  {
   "cell_type": "code",
   "execution_count": 9,
   "outputs": [
    {
     "data": {
      "text/plain": "<Figure size 640x480 with 1 Axes>",
      "image/png": "[encoded data removed]"
     },
     "metadata": {},
     "output_type": "display_data"
    }
   ],
   "source": [
    "labels = ['RMSE', 'MSE']\n",
    "x = np.arange(len(labels))\n",
    "width = 0.18\n",
    "\n",
    "fig, ax = plt.subplots()\n",
    "rects1 = ax.bar(x - width, ub, width, label='User-Based')\n",
    "rects2 = ax.bar(x, ib, width, label='Item-Based')\n",
    "rects3 = ax.bar(x + width, hb, width, label='Hybrid')\n",
    "rects4 = ax.bar(x + 2*width, hb2, width, label='Hybrid v2')\n",
    "\n",
    "\n",
    "# add some text for labels, title and custom x-axis tick labels, etc.\n",
    "ax.set_ylabel('Scores')\n",
    "ax.set_title('Comparison of User-Based and Item-Based Scores and Hybrids')\n",
    "ax.set_xticks(x)\n",
    "ax.set_xticklabels(labels)\n",
    "ax.legend()\n",
    "ax.set_ylim(0.93,1)\n",
    "\n",
    "\n",
    "# add the score values above each bar\n",
    "\n",
    "plt.savefig('./KNN Graphs/UB_IB_HB_comp.png')\n",
    "plt.show()"
   ],
   "metadata": {
    "collapsed": false
   }
  },
  {
   "cell_type": "code",
   "execution_count": 9,
   "outputs": [],
   "source": [],
   "metadata": {
    "collapsed": false
   }
  }
 ],
 "metadata": {
  "kernelspec": {
   "display_name": "Python 3",
   "language": "python",
   "name": "python3"
  },
  "language_info": {
   "codemirror_mode": {
    "name": "ipython",
    "version": 2
   },
   "file_extension": ".py",
   "mimetype": "text/x-python",
   "name": "python",
   "nbconvert_exporter": "python",
   "pygments_lexer": "ipython2",
   "version": "2.7.6"
  }
 },
 "nbformat": 4,
 "nbformat_minor": 0
}
