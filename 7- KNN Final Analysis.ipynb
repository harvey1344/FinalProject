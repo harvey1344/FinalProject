{
 "cells": [
  {
   "cell_type": "markdown",
   "source": [
    "As the final part of the KNN analysis. It is time to compare our three algorithms, KNNBasic, My own hybrid\n",
    "and KNNBaseline."
   ],
   "metadata": {
    "collapsed": false
   }
  },
  {
   "cell_type": "code",
   "execution_count": 1,
   "outputs": [],
   "source": [
    "import pandas as pd\n",
    "import numpy as np\n",
    "import matplotlib.pyplot as plt"
   ],
   "metadata": {
    "collapsed": false
   }
  },
  {
   "cell_type": "code",
   "execution_count": 2,
   "outputs": [],
   "source": [
    "df1= pd.read_csv(\"./algo_data/KNN_100Kvs1M.csv\")\n",
    "df2= pd.read_csv(\"./algo_data/KNNBaselineOp.csv\")\n"
   ],
   "metadata": {
    "collapsed": false
   }
  },
  {
   "cell_type": "code",
   "execution_count": 20,
   "outputs": [
    {
     "name": "stdout",
     "output_type": "stream",
     "text": [
      "          Algo      100k        1M\n",
      "0     KNNBasic  0.964453  0.925107\n",
      "1           V2  0.964453  0.925949\n",
      "2  KNNBaseline  0.926451  0.861641\n"
     ]
    }
   ],
   "source": [
    "results = pd.concat([df1, df2], ignore_index=True)\n",
    "results= results.drop(1)\n",
    "results=results.reset_index().drop('index',axis=1)\n",
    "print(results)"
   ],
   "metadata": {
    "collapsed": false
   }
  },
  {
   "cell_type": "code",
   "execution_count": 24,
   "outputs": [],
   "source": [
    "knn= results.loc[0].values[1:3]\n",
    "hybrid= results.loc[1].values[1:3]\n",
    "KNNbase=results.loc[2].values[1:3]"
   ],
   "metadata": {
    "collapsed": false
   }
  },
  {
   "cell_type": "code",
   "execution_count": null,
   "outputs": [],
   "source": [],
   "metadata": {
    "collapsed": false
   }
  }
 ],
 "metadata": {
  "kernelspec": {
   "display_name": "Python 3",
   "language": "python",
   "name": "python3"
  },
  "language_info": {
   "codemirror_mode": {
    "name": "ipython",
    "version": 2
   },
   "file_extension": ".py",
   "mimetype": "text/x-python",
   "name": "python",
   "nbconvert_exporter": "python",
   "pygments_lexer": "ipython2",
   "version": "2.7.6"
  }
 },
 "nbformat": 4,
 "nbformat_minor": 0
}
