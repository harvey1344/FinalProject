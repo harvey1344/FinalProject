{
 "cells": [
  {
   "cell_type": "markdown",
   "source": [
    "In this notebook, I will be testing my algoirthm(s) on unseen data. As opposed to\n",
    "cross validation\n"
   ],
   "metadata": {
    "collapsed": false
   }
  },
  {
   "cell_type": "code",
   "execution_count": 2,
   "outputs": [],
   "source": [
    "import time\n",
    "\n",
    "# import libraries\n",
    "from surprise import Dataset\n",
    "from surprise.accuracy import rmse\n",
    "from own_algorithms.UserItemKNN import UserItemKNN\n",
    "from surprise import KNNBasic\n",
    "from own_algorithms.UserItemKNNv2 import UserItemKNNv2\n",
    "from surprise.model_selection import train_test_split\n",
    "import pandas as pd\n",
    "import numpy as np\n",
    "import matplotlib.pyplot as plt\n",
    "import random\n",
    "from own_algorithms.top_n_list import get_top_n_list\n"
   ],
   "metadata": {
    "collapsed": false
   }
  },
  {
   "cell_type": "code",
   "execution_count": 3,
   "outputs": [],
   "source": [
    "# load data and split into A/B sets, A for CFV and B for unbiased testing\n",
    "# Load the data using the built-in function\n",
    "data = Dataset.load_builtin('ml-100k')\n",
    "raw_ratings= data.raw_ratings\n",
    "\n",
    "random.seed(2001)\n",
    "np.random.seed(2001)\n",
    "random.shuffle(raw_ratings)\n",
    "\n",
    "# create threshold for unseen, 80-20\n",
    "cutoff = int(0.8 * len(raw_ratings))\n",
    "A_raw= raw_ratings[:cutoff]\n",
    "B_raw= raw_ratings[cutoff:]\n",
    "\n",
    "# data is now only set A ratings\n",
    "data.raw_ratings= A_raw"
   ],
   "metadata": {
    "collapsed": false
   }
  },
  {
   "cell_type": "code",
   "execution_count": 4,
   "outputs": [
    {
     "name": "stdout",
     "output_type": "stream",
     "text": [
      "Unbiased accuracy on B for v1, RMSE: 0.9715\n",
      "Unbiased accuracy on B for v2, RMSE: 0.9645\n",
      "Computing the msd similarity matrix...\n",
      "Done computing similarity matrix.\n",
      "Unbiased accuracy on B for KNNBasic, RMSE: 0.9645\n"
     ]
    }
   ],
   "source": [
    "# testing the first version ensemble\n",
    "algo= UserItemKNN()\n",
    "\n",
    "trainset = data.build_full_trainset()\n",
    "algo.fit(trainset)\n",
    "\n",
    "\n",
    "testset = data.construct_testset(B_raw)  # testset is now the set B\n",
    "predictions = algo.test(testset)\n",
    "print(\"Unbiased accuracy on B for v1,\", end=\" \")\n",
    "algo1_rmse= rmse(predictions)\n",
    "\n",
    "#testing the \"improved version\"\n",
    "algo2= UserItemKNNv2()\n",
    "algo2.fit(trainset)\n",
    "predictions= algo2.test(testset)\n",
    "print(\"Unbiased accuracy on B for v2,\", end=\" \")\n",
    "algo2_rmse= rmse(predictions)\n",
    "\n",
    "algo3= KNNBasic()\n",
    "algo3.fit(trainset)\n",
    "predictions= algo2.test(testset)\n",
    "print(\"Unbiased accuracy on B for KNNBasic,\", end=\" \")\n",
    "algo3_rmse= rmse(predictions)"
   ],
   "metadata": {
    "collapsed": false
   }
  },
  {
   "cell_type": "markdown",
   "source": [
    "These scores are for the 100k dataset. This is not a realistic dataset as each film,user pair is filled.\n",
    "Most real life predictions are made using a sparse dataset. The next cells will be using the ml-1m dataset.\n",
    "A larger movie rating dataset with approximatly 95% sparsity. It is expected the performance will drop"
   ],
   "metadata": {
    "collapsed": false
   }
  },
  {
   "cell_type": "code",
   "execution_count": 5,
   "outputs": [
    {
     "name": "stdout",
     "output_type": "stream",
     "text": [
      "Unbiased accuracy on B for v1, RMSE: 0.9449\n",
      "Unbiased accuracy on B for v2, RMSE: 0.9259\n"
     ]
    }
   ],
   "source": [
    "\n",
    "#load the 1m dataset\n",
    "data=Dataset.load_builtin('ml-1m')\n",
    "\n",
    "#the algos havent been optimisded on data so its unncesccasy to split the dataset to validaton and test sets\n",
    "trainset, testset = train_test_split(data, test_size=0.25)\n",
    "# Train the algorithm on the trainset, and predict ratings for the testset\n",
    "\n",
    "algo.fit(trainset)\n",
    "predictions = algo.test(testset)\n",
    "print(\"Unbiased accuracy on B for v1,\", end=\" \")\n",
    "algo1_rmse_1m= rmse(predictions)\n",
    "\n",
    "fit_start=time.time()\n",
    "algo2.fit(trainset)\n",
    "fit_hybrid=time.time()-fit_start\n",
    "predict_start=time.time()\n",
    "predictions= algo2.test(testset)\n",
    "predict_hybrid=time.time()-predict_start\n",
    "print(\"Unbiased accuracy on B for v2,\", end=\" \")\n",
    "algo2_rmse_1m= rmse(predictions)\n",
    "\n",
    "hybrid_stats= np.array([algo2_rmse_1m, fit_hybrid, predict_hybrid])"
   ],
   "metadata": {
    "collapsed": false
   }
  },
  {
   "cell_type": "code",
   "execution_count": 6,
   "outputs": [
    {
     "data": {
      "text/plain": "array([  0.92594911, 107.19443941, 225.53905702])"
     },
     "execution_count": 6,
     "metadata": {},
     "output_type": "execute_result"
    }
   ],
   "source": [
    "hybrid_stats"
   ],
   "metadata": {
    "collapsed": false
   }
  },
  {
   "cell_type": "code",
   "execution_count": 5,
   "outputs": [],
   "source": [
    "\n",
    "movies_cols = ['movie_id', 'title', 'genres']\n",
    "movies_df = pd.read_csv('./ml-1m/movies.dat', sep='::', names=movies_cols, engine='python', encoding='latin-1')\n",
    "\n",
    "# create top n list\n",
    "movies=get_top_n_list(predictions, 10, '398', movies_df)\n",
    "df398= pd.DataFrame({'Hybrid':movies})\n",
    "movies=get_top_n_list(predictions, 10, '1', movies_df)\n",
    "df1= pd.DataFrame({'Hybrid':movies})\n",
    "movies=get_top_n_list(predictions, 10, '134', movies_df)\n",
    "df134= pd.DataFrame({'Hybrid':movies})"
   ],
   "metadata": {
    "collapsed": false
   }
  },
  {
   "cell_type": "code",
   "execution_count": 6,
   "outputs": [
    {
     "data": {
      "text/plain": "                             Hybrid\n0                Taxi Driver (1976)\n1             Godfather, The (1972)\n2        Clockwork Orange, A (1971)\n3          Full Metal Jacket (1987)\n4                  Chinatown (1974)\n5  Manchurian Candidate, The (1962)\n6         This Is Spinal Tap (1984)\n7                 Roger & Me (1989)\n8                   Rushmore (1998)\n9  Run Lola Run (Lola rennt) (1998)",
      "text/html": "<div>\n<style scoped>\n    .dataframe tbody tr th:only-of-type {\n        vertical-align: middle;\n    }\n\n    .dataframe tbody tr th {\n        vertical-align: top;\n    }\n\n    .dataframe thead th {\n        text-align: right;\n    }\n</style>\n<table border=\"1\" class=\"dataframe\">\n  <thead>\n    <tr style=\"text-align: right;\">\n      <th></th>\n      <th>Hybrid</th>\n    </tr>\n  </thead>\n  <tbody>\n    <tr>\n      <th>0</th>\n      <td>Taxi Driver (1976)</td>\n    </tr>\n    <tr>\n      <th>1</th>\n      <td>Godfather, The (1972)</td>\n    </tr>\n    <tr>\n      <th>2</th>\n      <td>Clockwork Orange, A (1971)</td>\n    </tr>\n    <tr>\n      <th>3</th>\n      <td>Full Metal Jacket (1987)</td>\n    </tr>\n    <tr>\n      <th>4</th>\n      <td>Chinatown (1974)</td>\n    </tr>\n    <tr>\n      <th>5</th>\n      <td>Manchurian Candidate, The (1962)</td>\n    </tr>\n    <tr>\n      <th>6</th>\n      <td>This Is Spinal Tap (1984)</td>\n    </tr>\n    <tr>\n      <th>7</th>\n      <td>Roger &amp; Me (1989)</td>\n    </tr>\n    <tr>\n      <th>8</th>\n      <td>Rushmore (1998)</td>\n    </tr>\n    <tr>\n      <th>9</th>\n      <td>Run Lola Run (Lola rennt) (1998)</td>\n    </tr>\n  </tbody>\n</table>\n</div>"
     },
     "execution_count": 6,
     "metadata": {},
     "output_type": "execute_result"
    }
   ],
   "source": [
    "df398"
   ],
   "metadata": {
    "collapsed": false
   }
  },
  {
   "cell_type": "code",
   "execution_count": 7,
   "outputs": [
    {
     "data": {
      "text/plain": "                                   Hybrid\n0                            Fargo (1996)\n1                             Gigi (1958)\n2                       Cinderella (1950)\n3  One Flew Over the Cuckoo's Nest (1975)\n4                          Ben-Hur (1959)\n5              Saving Private Ryan (1998)\n6               Christmas Story, A (1983)\n7         Ferris Bueller's Day Off (1986)\n8                       Awakenings (1990)\n9                      Toy Story 2 (1999)",
      "text/html": "<div>\n<style scoped>\n    .dataframe tbody tr th:only-of-type {\n        vertical-align: middle;\n    }\n\n    .dataframe tbody tr th {\n        vertical-align: top;\n    }\n\n    .dataframe thead th {\n        text-align: right;\n    }\n</style>\n<table border=\"1\" class=\"dataframe\">\n  <thead>\n    <tr style=\"text-align: right;\">\n      <th></th>\n      <th>Hybrid</th>\n    </tr>\n  </thead>\n  <tbody>\n    <tr>\n      <th>0</th>\n      <td>Fargo (1996)</td>\n    </tr>\n    <tr>\n      <th>1</th>\n      <td>Gigi (1958)</td>\n    </tr>\n    <tr>\n      <th>2</th>\n      <td>Cinderella (1950)</td>\n    </tr>\n    <tr>\n      <th>3</th>\n      <td>One Flew Over the Cuckoo's Nest (1975)</td>\n    </tr>\n    <tr>\n      <th>4</th>\n      <td>Ben-Hur (1959)</td>\n    </tr>\n    <tr>\n      <th>5</th>\n      <td>Saving Private Ryan (1998)</td>\n    </tr>\n    <tr>\n      <th>6</th>\n      <td>Christmas Story, A (1983)</td>\n    </tr>\n    <tr>\n      <th>7</th>\n      <td>Ferris Bueller's Day Off (1986)</td>\n    </tr>\n    <tr>\n      <th>8</th>\n      <td>Awakenings (1990)</td>\n    </tr>\n    <tr>\n      <th>9</th>\n      <td>Toy Story 2 (1999)</td>\n    </tr>\n  </tbody>\n</table>\n</div>"
     },
     "execution_count": 7,
     "metadata": {},
     "output_type": "execute_result"
    }
   ],
   "source": [
    "df1"
   ],
   "metadata": {
    "collapsed": false
   }
  },
  {
   "cell_type": "code",
   "execution_count": 8,
   "outputs": [
    {
     "data": {
      "text/plain": "                                              Hybrid\n0                                  Braveheart (1995)\n1                         In the Line of Fire (1993)\n2                   Last of the Mohicans, The (1992)\n3  Austin Powers: International Man of Mystery (1...\n4                             Full Monty, The (1997)\n5                          Mask of Zorro, The (1998)\n6                        Being John Malkovich (1999)\n7                                 Toy Story 2 (1999)\n8                                 Chicken Run (2000)\n9                               Almost Famous (2000)",
      "text/html": "<div>\n<style scoped>\n    .dataframe tbody tr th:only-of-type {\n        vertical-align: middle;\n    }\n\n    .dataframe tbody tr th {\n        vertical-align: top;\n    }\n\n    .dataframe thead th {\n        text-align: right;\n    }\n</style>\n<table border=\"1\" class=\"dataframe\">\n  <thead>\n    <tr style=\"text-align: right;\">\n      <th></th>\n      <th>Hybrid</th>\n    </tr>\n  </thead>\n  <tbody>\n    <tr>\n      <th>0</th>\n      <td>Braveheart (1995)</td>\n    </tr>\n    <tr>\n      <th>1</th>\n      <td>In the Line of Fire (1993)</td>\n    </tr>\n    <tr>\n      <th>2</th>\n      <td>Last of the Mohicans, The (1992)</td>\n    </tr>\n    <tr>\n      <th>3</th>\n      <td>Austin Powers: International Man of Mystery (1...</td>\n    </tr>\n    <tr>\n      <th>4</th>\n      <td>Full Monty, The (1997)</td>\n    </tr>\n    <tr>\n      <th>5</th>\n      <td>Mask of Zorro, The (1998)</td>\n    </tr>\n    <tr>\n      <th>6</th>\n      <td>Being John Malkovich (1999)</td>\n    </tr>\n    <tr>\n      <th>7</th>\n      <td>Toy Story 2 (1999)</td>\n    </tr>\n    <tr>\n      <th>8</th>\n      <td>Chicken Run (2000)</td>\n    </tr>\n    <tr>\n      <th>9</th>\n      <td>Almost Famous (2000)</td>\n    </tr>\n  </tbody>\n</table>\n</div>"
     },
     "execution_count": 8,
     "metadata": {},
     "output_type": "execute_result"
    }
   ],
   "source": [
    "df134"
   ],
   "metadata": {
    "collapsed": false
   }
  },
  {
   "cell_type": "markdown",
   "source": [
    "Well, the results here show us that our algorithm actually performs better in the ML-1M dataset.\n",
    "THis was an unexpected result however the tests do not lie. This could be due to the fact the 1m dataset has 10x\n",
    "the ratings than the 100k and theefore can make more accuracte predictions. I will test the KNNBasic algorithm again to compare the results"
   ],
   "metadata": {
    "collapsed": false
   }
  },
  {
   "cell_type": "code",
   "execution_count": 7,
   "outputs": [
    {
     "name": "stdout",
     "output_type": "stream",
     "text": [
      "Computing the msd similarity matrix...\n",
      "Done computing similarity matrix.\n",
      "Unbiased accuracy on B for KNNBasic, RMSE: 0.9251\n"
     ]
    },
    {
     "data": {
      "text/plain": "array([  0.92510662,  30.11594629, 139.11689234])"
     },
     "execution_count": 7,
     "metadata": {},
     "output_type": "execute_result"
    }
   ],
   "source": [
    "\n",
    "\n",
    "algo3=KNNBasic()\n",
    "fit_start=time.time()\n",
    "algo3.fit(trainset)\n",
    "fit_basic= time.time()- fit_start\n",
    "predict_start=time.time()\n",
    "predictions= algo3.test(testset)\n",
    "predict_basic=time.time()-predict_start\n",
    "print(\"Unbiased accuracy on B for KNNBasic,\", end=\" \")\n",
    "algo3_rmse_1m= rmse(predictions)\n",
    "\n",
    "basic_stats=np.array([algo3_rmse_1m, fit_basic, predict_basic])\n",
    "basic_stats\n"
   ],
   "metadata": {
    "collapsed": false
   }
  },
  {
   "cell_type": "code",
   "execution_count": 8,
   "outputs": [],
   "source": [
    "data=pd.DataFrame(columns=['RMSE', 'Fit Time', 'Predict Time'])\n",
    "data.loc[len(data)] = basic_stats\n",
    "data.loc[len(data)] = hybrid_stats\n",
    "data.insert(0,'Algorithm', ['KNN', 'KNN (hybrid)'])\n",
    "data.to_csv('./algo_data/KNN_1m', index=False)"
   ],
   "metadata": {
    "collapsed": false
   }
  },
  {
   "cell_type": "code",
   "execution_count": 10,
   "outputs": [],
   "source": [
    "movies=get_top_n_list(predictions, 10, '398', movies_df)\n",
    "df398[\"KNN Basic\"]= movies\n",
    "movies=get_top_n_list(predictions, 10, '1', movies_df)\n",
    "df1[\"KNN Basic\"]= movies\n",
    "movies=get_top_n_list(predictions, 10, '134', movies_df)\n",
    "df134[\"KNN Basic\"]= movies\n"
   ],
   "metadata": {
    "collapsed": false
   }
  },
  {
   "cell_type": "code",
   "execution_count": 11,
   "outputs": [
    {
     "data": {
      "text/plain": "                             Hybrid                         KNN Basic\n0                Taxi Driver (1976)                Taxi Driver (1976)\n1             Godfather, The (1972)             Godfather, The (1972)\n2        Clockwork Orange, A (1971)          Dial M for Murder (1954)\n3          Full Metal Jacket (1987)        Clockwork Orange, A (1971)\n4                  Chinatown (1974)                  Chinatown (1974)\n5  Manchurian Candidate, The (1962)  Manchurian Candidate, The (1962)\n6         This Is Spinal Tap (1984)         This Is Spinal Tap (1984)\n7                 Roger & Me (1989)  Run Lola Run (Lola rennt) (1998)\n8                   Rushmore (1998)           Sixth Sense, The (1999)\n9  Run Lola Run (Lola rennt) (1998)          Dog Day Afternoon (1975)",
      "text/html": "<div>\n<style scoped>\n    .dataframe tbody tr th:only-of-type {\n        vertical-align: middle;\n    }\n\n    .dataframe tbody tr th {\n        vertical-align: top;\n    }\n\n    .dataframe thead th {\n        text-align: right;\n    }\n</style>\n<table border=\"1\" class=\"dataframe\">\n  <thead>\n    <tr style=\"text-align: right;\">\n      <th></th>\n      <th>Hybrid</th>\n      <th>KNN Basic</th>\n    </tr>\n  </thead>\n  <tbody>\n    <tr>\n      <th>0</th>\n      <td>Taxi Driver (1976)</td>\n      <td>Taxi Driver (1976)</td>\n    </tr>\n    <tr>\n      <th>1</th>\n      <td>Godfather, The (1972)</td>\n      <td>Godfather, The (1972)</td>\n    </tr>\n    <tr>\n      <th>2</th>\n      <td>Clockwork Orange, A (1971)</td>\n      <td>Dial M for Murder (1954)</td>\n    </tr>\n    <tr>\n      <th>3</th>\n      <td>Full Metal Jacket (1987)</td>\n      <td>Clockwork Orange, A (1971)</td>\n    </tr>\n    <tr>\n      <th>4</th>\n      <td>Chinatown (1974)</td>\n      <td>Chinatown (1974)</td>\n    </tr>\n    <tr>\n      <th>5</th>\n      <td>Manchurian Candidate, The (1962)</td>\n      <td>Manchurian Candidate, The (1962)</td>\n    </tr>\n    <tr>\n      <th>6</th>\n      <td>This Is Spinal Tap (1984)</td>\n      <td>This Is Spinal Tap (1984)</td>\n    </tr>\n    <tr>\n      <th>7</th>\n      <td>Roger &amp; Me (1989)</td>\n      <td>Run Lola Run (Lola rennt) (1998)</td>\n    </tr>\n    <tr>\n      <th>8</th>\n      <td>Rushmore (1998)</td>\n      <td>Sixth Sense, The (1999)</td>\n    </tr>\n    <tr>\n      <th>9</th>\n      <td>Run Lola Run (Lola rennt) (1998)</td>\n      <td>Dog Day Afternoon (1975)</td>\n    </tr>\n  </tbody>\n</table>\n</div>"
     },
     "execution_count": 11,
     "metadata": {},
     "output_type": "execute_result"
    }
   ],
   "source": [
    "df398"
   ],
   "metadata": {
    "collapsed": false
   }
  },
  {
   "cell_type": "code",
   "execution_count": 12,
   "outputs": [
    {
     "data": {
      "text/plain": "                                   Hybrid  \\\n0                            Fargo (1996)   \n1                             Gigi (1958)   \n2                       Cinderella (1950)   \n3  One Flew Over the Cuckoo's Nest (1975)   \n4                          Ben-Hur (1959)   \n5              Saving Private Ryan (1998)   \n6               Christmas Story, A (1983)   \n7         Ferris Bueller's Day Off (1986)   \n8                       Awakenings (1990)   \n9                      Toy Story 2 (1999)   \n\n                                KNN Basic  \n0                            Fargo (1996)  \n1                             Gigi (1958)  \n2                       Cinderella (1950)  \n3  One Flew Over the Cuckoo's Nest (1975)  \n4                          Ben-Hur (1959)  \n5              Saving Private Ryan (1998)  \n6               Christmas Story, A (1983)  \n7         Ferris Bueller's Day Off (1986)  \n8                       Awakenings (1990)  \n9                      Toy Story 2 (1999)  ",
      "text/html": "<div>\n<style scoped>\n    .dataframe tbody tr th:only-of-type {\n        vertical-align: middle;\n    }\n\n    .dataframe tbody tr th {\n        vertical-align: top;\n    }\n\n    .dataframe thead th {\n        text-align: right;\n    }\n</style>\n<table border=\"1\" class=\"dataframe\">\n  <thead>\n    <tr style=\"text-align: right;\">\n      <th></th>\n      <th>Hybrid</th>\n      <th>KNN Basic</th>\n    </tr>\n  </thead>\n  <tbody>\n    <tr>\n      <th>0</th>\n      <td>Fargo (1996)</td>\n      <td>Fargo (1996)</td>\n    </tr>\n    <tr>\n      <th>1</th>\n      <td>Gigi (1958)</td>\n      <td>Gigi (1958)</td>\n    </tr>\n    <tr>\n      <th>2</th>\n      <td>Cinderella (1950)</td>\n      <td>Cinderella (1950)</td>\n    </tr>\n    <tr>\n      <th>3</th>\n      <td>One Flew Over the Cuckoo's Nest (1975)</td>\n      <td>One Flew Over the Cuckoo's Nest (1975)</td>\n    </tr>\n    <tr>\n      <th>4</th>\n      <td>Ben-Hur (1959)</td>\n      <td>Ben-Hur (1959)</td>\n    </tr>\n    <tr>\n      <th>5</th>\n      <td>Saving Private Ryan (1998)</td>\n      <td>Saving Private Ryan (1998)</td>\n    </tr>\n    <tr>\n      <th>6</th>\n      <td>Christmas Story, A (1983)</td>\n      <td>Christmas Story, A (1983)</td>\n    </tr>\n    <tr>\n      <th>7</th>\n      <td>Ferris Bueller's Day Off (1986)</td>\n      <td>Ferris Bueller's Day Off (1986)</td>\n    </tr>\n    <tr>\n      <th>8</th>\n      <td>Awakenings (1990)</td>\n      <td>Awakenings (1990)</td>\n    </tr>\n    <tr>\n      <th>9</th>\n      <td>Toy Story 2 (1999)</td>\n      <td>Toy Story 2 (1999)</td>\n    </tr>\n  </tbody>\n</table>\n</div>"
     },
     "execution_count": 12,
     "metadata": {},
     "output_type": "execute_result"
    }
   ],
   "source": [
    "df1"
   ],
   "metadata": {
    "collapsed": false
   }
  },
  {
   "cell_type": "code",
   "execution_count": 13,
   "outputs": [
    {
     "data": {
      "text/plain": "                                              Hybrid  \\\n0                                  Braveheart (1995)   \n1                         In the Line of Fire (1993)   \n2                   Last of the Mohicans, The (1992)   \n3  Austin Powers: International Man of Mystery (1...   \n4                             Full Monty, The (1997)   \n5                          Mask of Zorro, The (1998)   \n6                        Being John Malkovich (1999)   \n7                                 Toy Story 2 (1999)   \n8                                 Chicken Run (2000)   \n9                               Almost Famous (2000)   \n\n                                           KNN Basic  \n0                                  Braveheart (1995)  \n1                         In the Line of Fire (1993)  \n2                   Last of the Mohicans, The (1992)  \n3  Austin Powers: International Man of Mystery (1...  \n4                             Full Monty, The (1997)  \n5                                Office Space (1999)  \n6                        Being John Malkovich (1999)  \n7                                 Toy Story 2 (1999)  \n8                                 Chicken Run (2000)  \n9                               Almost Famous (2000)  ",
      "text/html": "<div>\n<style scoped>\n    .dataframe tbody tr th:only-of-type {\n        vertical-align: middle;\n    }\n\n    .dataframe tbody tr th {\n        vertical-align: top;\n    }\n\n    .dataframe thead th {\n        text-align: right;\n    }\n</style>\n<table border=\"1\" class=\"dataframe\">\n  <thead>\n    <tr style=\"text-align: right;\">\n      <th></th>\n      <th>Hybrid</th>\n      <th>KNN Basic</th>\n    </tr>\n  </thead>\n  <tbody>\n    <tr>\n      <th>0</th>\n      <td>Braveheart (1995)</td>\n      <td>Braveheart (1995)</td>\n    </tr>\n    <tr>\n      <th>1</th>\n      <td>In the Line of Fire (1993)</td>\n      <td>In the Line of Fire (1993)</td>\n    </tr>\n    <tr>\n      <th>2</th>\n      <td>Last of the Mohicans, The (1992)</td>\n      <td>Last of the Mohicans, The (1992)</td>\n    </tr>\n    <tr>\n      <th>3</th>\n      <td>Austin Powers: International Man of Mystery (1...</td>\n      <td>Austin Powers: International Man of Mystery (1...</td>\n    </tr>\n    <tr>\n      <th>4</th>\n      <td>Full Monty, The (1997)</td>\n      <td>Full Monty, The (1997)</td>\n    </tr>\n    <tr>\n      <th>5</th>\n      <td>Mask of Zorro, The (1998)</td>\n      <td>Office Space (1999)</td>\n    </tr>\n    <tr>\n      <th>6</th>\n      <td>Being John Malkovich (1999)</td>\n      <td>Being John Malkovich (1999)</td>\n    </tr>\n    <tr>\n      <th>7</th>\n      <td>Toy Story 2 (1999)</td>\n      <td>Toy Story 2 (1999)</td>\n    </tr>\n    <tr>\n      <th>8</th>\n      <td>Chicken Run (2000)</td>\n      <td>Chicken Run (2000)</td>\n    </tr>\n    <tr>\n      <th>9</th>\n      <td>Almost Famous (2000)</td>\n      <td>Almost Famous (2000)</td>\n    </tr>\n  </tbody>\n</table>\n</div>"
     },
     "execution_count": 13,
     "metadata": {},
     "output_type": "execute_result"
    }
   ],
   "source": [
    "df134"
   ],
   "metadata": {
    "collapsed": false
   }
  },
  {
   "cell_type": "code",
   "execution_count": 14,
   "outputs": [],
   "source": [
    "df398.to_csv('./predictions/398.csv', index=False)\n",
    "df1.to_csv('./predictions/1.csv', index=False)\n",
    "df134.to_csv('./predictions/134.csv', index=False)"
   ],
   "metadata": {
    "collapsed": false
   }
  },
  {
   "cell_type": "code",
   "execution_count": 15,
   "outputs": [],
   "source": [
    "data={\"Algo\":[\"KNNBasic\", \"V1\", \"V2\"],\n",
    "      \"100k\": [algo3_rmse, algo1_rmse, algo2_rmse],\n",
    "      \"1M\": [algo3_rmse_1m, algo1_rmse_1m, algo2_rmse_1m]}\n",
    "\n",
    "results= pd.DataFrame(data)\n",
    "results.to_csv('./algo_data/KNN_100Kvs1M.csv', index=False)"
   ],
   "metadata": {
    "collapsed": false
   }
  },
  {
   "cell_type": "code",
   "execution_count": 16,
   "outputs": [
    {
     "data": {
      "text/plain": "       Algo      100k        1M\n0  KNNBasic  0.964453  0.925107\n1        V1  0.971465  0.944865\n2        V2  0.964453  0.925949",
      "text/html": "<div>\n<style scoped>\n    .dataframe tbody tr th:only-of-type {\n        vertical-align: middle;\n    }\n\n    .dataframe tbody tr th {\n        vertical-align: top;\n    }\n\n    .dataframe thead th {\n        text-align: right;\n    }\n</style>\n<table border=\"1\" class=\"dataframe\">\n  <thead>\n    <tr style=\"text-align: right;\">\n      <th></th>\n      <th>Algo</th>\n      <th>100k</th>\n      <th>1M</th>\n    </tr>\n  </thead>\n  <tbody>\n    <tr>\n      <th>0</th>\n      <td>KNNBasic</td>\n      <td>0.964453</td>\n      <td>0.925107</td>\n    </tr>\n    <tr>\n      <th>1</th>\n      <td>V1</td>\n      <td>0.971465</td>\n      <td>0.944865</td>\n    </tr>\n    <tr>\n      <th>2</th>\n      <td>V2</td>\n      <td>0.964453</td>\n      <td>0.925949</td>\n    </tr>\n  </tbody>\n</table>\n</div>"
     },
     "execution_count": 16,
     "metadata": {},
     "output_type": "execute_result"
    }
   ],
   "source": [
    "results"
   ],
   "metadata": {
    "collapsed": false
   }
  },
  {
   "cell_type": "code",
   "execution_count": 16,
   "outputs": [],
   "source": [],
   "metadata": {
    "collapsed": false
   }
  }
 ],
 "metadata": {
  "kernelspec": {
   "display_name": "Python 3",
   "language": "python",
   "name": "python3"
  },
  "language_info": {
   "codemirror_mode": {
    "name": "ipython",
    "version": 2
   },
   "file_extension": ".py",
   "mimetype": "text/x-python",
   "name": "python",
   "nbconvert_exporter": "python",
   "pygments_lexer": "ipython2",
   "version": "2.7.6"
  }
 },
 "nbformat": 4,
 "nbformat_minor": 0
}
