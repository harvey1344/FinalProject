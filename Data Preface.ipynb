{
 "cells": [
  {
   "cell_type": "code",
   "execution_count": null,
   "metadata": {},
   "outputs": [
    {
     "ename": "",
     "evalue": "",
     "output_type": "error",
     "traceback": [
      "\u001B[1;31mRunning cells with 'c:\\msys64\\mingw64\\bin\\python.exe' requires ipykernel package.\n",
      "\u001B[1;31mRun the following command to install 'ipykernel' into the Python environment. \n",
      "\u001B[1;31mCommand: 'c:/msys64/mingw64/bin/python.exe -m pip install ipykernel -U --user --force-reinstall'"
     ]
    }
   ],
   "source": []
  },
  {
   "cell_type": "code",
   "execution_count": null,
   "outputs": [],
   "source": [],
   "metadata": {
    "collapsed": false
   }
  },
  {
   "cell_type": "code",
   "execution_count": 1,
   "metadata": {},
   "outputs": [],
   "source": [
    "import numpy as np\n",
    "import pandas as pd\n",
    "import matplotlib.pyplot as plt"
   ]
  },
  {
   "cell_type": "code",
   "execution_count": 3,
   "metadata": {},
   "outputs": [],
   "source": [
    "# pass column names and load each csv into each dataframe\n",
    "user_cols=['user_id', 'age', 'sex', 'occupation', 'zip_code']\n",
    "users = pd.read_csv('./ml-100k/u.user', sep='|', names=user_cols,encoding='UTF-8')\n",
    "rating_cols=['user_id', 'movie_id', 'rating', 'unix_timestamp']\n",
    "ratings = pd.read_csv('ml-100k/u.data', sep='\\t', names=rating_cols,encoding='UTF-8')\n",
    "movie_cols=['movie_id', 'title', 'release_date']\n",
    "movies = pd.read_csv('ml-100k/u.item', sep='|', names=movie_cols, usecols=range(3),encoding='latin-1')"
   ]
  },
  {
   "cell_type": "code",
   "execution_count": 3,
   "metadata": {},
   "outputs": [
    {
     "name": "stdout",
     "output_type": "stream",
     "text": [
      "   user_id  age sex  occupation zip_code\n",
      "0        1   24   M  technician    85711\n",
      "1        2   53   F       other    94043\n",
      "2        3   23   M      writer    32067\n",
      "3        4   24   M  technician    43537\n",
      "4        5   33   F       other    15213\n"
     ]
    }
   ],
   "source": [
    "print(users.head(5))"
   ]
  },
  {
   "cell_type": "code",
   "execution_count": 4,
   "metadata": {},
   "outputs": [
    {
     "name": "stdout",
     "output_type": "stream",
     "text": [
      "   user_id  movie_id  rating  unix_timestamp\n",
      "0      196       242       3       881250949\n",
      "1      186       302       3       891717742\n",
      "2       22       377       1       878887116\n",
      "3      244        51       2       880606923\n",
      "4      166       346       1       886397596\n"
     ]
    }
   ],
   "source": [
    "print(ratings.head(5))"
   ]
  },
  {
   "cell_type": "code",
   "execution_count": 5,
   "metadata": {},
   "outputs": [
    {
     "name": "stdout",
     "output_type": "stream",
     "text": [
      "   movie_id              title release_date\n",
      "0         1   Toy Story (1995)  01-Jan-1995\n",
      "1         2   GoldenEye (1995)  01-Jan-1995\n",
      "2         3  Four Rooms (1995)  01-Jan-1995\n",
      "3         4  Get Shorty (1995)  01-Jan-1995\n",
      "4         5     Copycat (1995)  01-Jan-1995\n"
     ]
    }
   ],
   "source": [
    "print(movies.head(5))"
   ]
  },
  {
   "cell_type": "code",
   "execution_count": 6,
   "metadata": {},
   "outputs": [
    {
     "name": "stdout",
     "output_type": "stream",
     "text": [
      "   movie_id              title release_date  user_id  rating  unix_timestamp  \\\n",
      "0         1   Toy Story (1995)  01-Jan-1995      308       4       887736532   \n",
      "1         4  Get Shorty (1995)  01-Jan-1995      308       5       887737890   \n",
      "2         5     Copycat (1995)  01-Jan-1995      308       4       887739608   \n",
      "\n",
      "   age sex occupation zip_code  \n",
      "0   60   M    retired    95076  \n",
      "1   60   M    retired    95076  \n",
      "2   60   M    retired    95076  \n"
     ]
    }
   ],
   "source": [
    "# creating the merged DataFrame\n",
    "movie_ratings = pd.merge(movies, ratings)\n",
    "lens = pd.merge(movie_ratings, users)\n",
    "print(lens.head(3))"
   ]
  },
  {
   "cell_type": "code",
   "execution_count": 6,
   "metadata": {},
   "outputs": [],
   "source": []
  },
  {
   "cell_type": "code",
   "execution_count": 7,
   "metadata": {},
   "outputs": [
    {
     "name": "stdout",
     "output_type": "stream",
     "text": [
      "Star Wars (1977)                 583\n",
      "Contact (1997)                   509\n",
      "Fargo (1996)                     508\n",
      "Return of the Jedi (1983)        507\n",
      "Liar Liar (1997)                 485\n",
      "English Patient, The (1996)      481\n",
      "Scream (1996)                    478\n",
      "Toy Story (1995)                 452\n",
      "Air Force One (1997)             431\n",
      "Independence Day (ID4) (1996)    429\n",
      "Name: title, dtype: int64\n"
     ]
    }
   ],
   "source": [
    "#creating the list of movies with the highest amount\n",
    "# of ratings with a length of 10\n",
    "most_rated=lens.title.value_counts()[:10]\n",
    "print(most_rated)"
   ]
  },
  {
   "cell_type": "code",
   "execution_count": 8,
   "metadata": {},
   "outputs": [
    {
     "name": "stdout",
     "output_type": "stream",
     "text": [
      "                          rating          \n",
      "                            size      mean\n",
      "title                                     \n",
      "'Til There Was You (1997)      9  2.333333\n",
      "1-900 (1994)                   5  2.600000\n",
      "101 Dalmatians (1996)        109  2.908257\n",
      "12 Angry Men (1957)          125  4.344000\n",
      "187 (1997)                    41  3.024390\n"
     ]
    }
   ],
   "source": [
    "# creating a new dataframe for movie stats\n",
    "# contains the movie title, no. of ratings and mean rating\n",
    "movie_stats=lens.groupby('title').agg({'rating':[np.size,np.mean]})\n",
    "print(movie_stats.head(5))"
   ]
  },
  {
   "cell_type": "code",
   "execution_count": 9,
   "metadata": {},
   "outputs": [
    {
     "name": "stdout",
     "output_type": "stream",
     "text": [
      "                                       rating          \n",
      "                                         size      mean\n",
      "title                                                  \n",
      "Star Wars (1977)                          583  4.358491\n",
      "Silence of the Lambs, The (1991)          390  4.289744\n",
      "Godfather, The (1972)                     413  4.283293\n",
      "Raiders of the Lost Ark (1981)            420  4.252381\n",
      "Titanic (1997)                            350  4.245714\n",
      "Empire Strikes Back, The (1980)           367  4.204360\n",
      "Princess Bride, The (1987)                324  4.172840\n",
      "Fargo (1996)                              508  4.155512\n",
      "Monty Python and the Holy Grail (1974)    316  4.066456\n",
      "Pulp Fiction (1994)                       394  4.060914\n"
     ]
    }
   ],
   "source": [
    "# sort by average\n",
    "top_rated=movie_stats['rating']['size']>300\n",
    "\n",
    "top_n_top_rated=movie_stats[top_rated].sort_values([('rating', 'mean')], ascending=False)[:10]\n",
    "print(top_n_top_rated)\n",
    "\n"
   ]
  },
  {
   "cell_type": "code",
   "execution_count": 12,
   "metadata": {},
   "outputs": [
    {
     "data": {
      "text/plain": "<Figure size 640x480 with 1 Axes>",
      "image/png": "[encoded data removed]"
     },
     "metadata": {},
     "output_type": "display_data"
    }
   ],
   "source": [
    "# plots to show distribution of age groups in the datset\n",
    "users['age'].plot.hist(bins=30, edgecolor='black')\n",
    "plt.title(\"Distribution of users' ages (ml-100k)\")\n",
    "plt.ylabel('count of users')\n",
    "plt.xlabel('age');\n",
    "plt.savefig(\"./userages100K\")"
   ]
  },
  {
   "cell_type": "code",
   "execution_count": 11,
   "metadata": {},
   "outputs": [
    {
     "data": {
      "text/plain": "          rating          \n            size      mean\nage_group                 \n0-9           43  3.767442\n10-19       8181  3.486126\n20-29      39535  3.467333\n30-39      25696  3.554444\n40-49      15021  3.591772\n50-59       8704  3.635800\n60-69       2623  3.648875\n70-79        197  3.649746",
      "text/html": "<div>\n<style scoped>\n    .dataframe tbody tr th:only-of-type {\n        vertical-align: middle;\n    }\n\n    .dataframe tbody tr th {\n        vertical-align: top;\n    }\n\n    .dataframe thead tr th {\n        text-align: left;\n    }\n\n    .dataframe thead tr:last-of-type th {\n        text-align: right;\n    }\n</style>\n<table border=\"1\" class=\"dataframe\">\n  <thead>\n    <tr>\n      <th></th>\n      <th colspan=\"2\" halign=\"left\">rating</th>\n    </tr>\n    <tr>\n      <th></th>\n      <th>size</th>\n      <th>mean</th>\n    </tr>\n    <tr>\n      <th>age_group</th>\n      <th></th>\n      <th></th>\n    </tr>\n  </thead>\n  <tbody>\n    <tr>\n      <th>0-9</th>\n      <td>43</td>\n      <td>3.767442</td>\n    </tr>\n    <tr>\n      <th>10-19</th>\n      <td>8181</td>\n      <td>3.486126</td>\n    </tr>\n    <tr>\n      <th>20-29</th>\n      <td>39535</td>\n      <td>3.467333</td>\n    </tr>\n    <tr>\n      <th>30-39</th>\n      <td>25696</td>\n      <td>3.554444</td>\n    </tr>\n    <tr>\n      <th>40-49</th>\n      <td>15021</td>\n      <td>3.591772</td>\n    </tr>\n    <tr>\n      <th>50-59</th>\n      <td>8704</td>\n      <td>3.635800</td>\n    </tr>\n    <tr>\n      <th>60-69</th>\n      <td>2623</td>\n      <td>3.648875</td>\n    </tr>\n    <tr>\n      <th>70-79</th>\n      <td>197</td>\n      <td>3.649746</td>\n    </tr>\n  </tbody>\n</table>\n</div>"
     },
     "execution_count": 11,
     "metadata": {},
     "output_type": "execute_result"
    }
   ],
   "source": [
    "# create a table pof the age group, frequency and mean rating\n",
    "labels = ['0-9', '10-19', '20-29', '30-39', '40-49', '50-59', '60-69', '70-79']\n",
    "lens['age_group'] = pd.cut(lens.age, range(0, 81, 10), right=False, labels=labels)\n",
    "lens[['age', 'age_group']].drop_duplicates()[:10]\n",
    "lens.groupby('age_group').agg({'rating': [np.size, np.mean]})"
   ]
  },
  {
   "cell_type": "code",
   "execution_count": 12,
   "metadata": {},
   "outputs": [
    {
     "data": {
      "text/plain": "<Figure size 640x480 with 1 Axes>",
      "image/png": "[encoded data removed]"
     },
     "metadata": {},
     "output_type": "display_data"
    }
   ],
   "source": [
    "#Create histogram to show disribution of ratings in each age group\n",
    "\n",
    "# Group the data by age\n",
    "grouped = lens.groupby(\"age_group\")\n",
    "\n",
    "# Plot the distribution of ratings for each age group\n",
    "fig, ax = plt.subplots()\n",
    "for name, group in grouped:\n",
    "    ax.hist(group[\"rating\"], label=name)\n",
    "\n",
    "# Add a legend\n",
    "ax.legend()\n",
    "\n",
    "# Show the plot\n",
    "plt.savefig(\"./ratingspergroup.png\", format='png')\n",
    "plt.show()\n"
   ]
  },
  {
   "cell_type": "code",
   "execution_count": 13,
   "metadata": {},
   "outputs": [
    {
     "name": "stdout",
     "output_type": "stream",
     "text": [
      "Random 10 Model\n",
      "-----------------\n",
      "Craft, The (1996)\n",
      "8 1/2 (1963)\n",
      "Flirting With Disaster (1996)\n",
      "Chairman of the Board (1998)\n",
      "Aparajito (1956)\n",
      "Blade Runner (1982)\n",
      "Father of the Bride Part II (1995)\n",
      "Month by the Lake, A (1995)\n",
      "Nothing to Lose (1994)\n",
      "Intimate Relations (1996)\n"
     ]
    }
   ],
   "source": [
    "import random\n",
    "\n",
    "#get num of filsm for max random no\n",
    "numOfFilms=len(movies)\n",
    "\n",
    "#init list of films\n",
    "random_films=[]\n",
    "#loop n times to create a top-n list of films (n=10)\n",
    "for i in range(0,10):\n",
    "    #get random int in range of film ids and find movie\n",
    "    index=random.randint(1, numOfFilms)\n",
    "    random_films.append(movies.loc[index].title)\n",
    "\n",
    "print(\"Random 10 Model\\n-----------------\")\n",
    "\n",
    "print(\"\\n\".join(random_films))"
   ]
  },
  {
   "cell_type": "code",
   "execution_count": 14,
   "metadata": {},
   "outputs": [],
   "source": [
    "from surprise import NormalPredictor\n",
    "#personalised verison of this\n",
    "from collections import defaultdict\n",
    "\n",
    "from surprise import Dataset, NormalPredictor\n",
    "\n",
    "\n",
    "def get_top_n(predictions, n=10):\n",
    "    \"\"\"Return the top-N recommendation for each user from a set of predictions.\n",
    "\n",
    "    Args:\n",
    "        predictions(list of Prediction objects): The list of predictions, as\n",
    "            returned by the test method of an algorithm.\n",
    "        n(int): The number of recommendation to output for each user. Default\n",
    "            is 10.\n",
    "\n",
    "    Returns:\n",
    "    A dict where keys are user (raw) ids and values are lists of tuples:\n",
    "        [(raw item id, rating estimation), ...] of size n.\n",
    "    \"\"\"\n",
    "\n",
    "    # First map the predictions to each user.\n",
    "    top_n = defaultdict(list)\n",
    "    for uid, iid, true_r, est, _ in predictions:\n",
    "        top_n[uid].append((iid, est))\n",
    "\n",
    "    # Then sort the predictions for each user and retrieve the k highest ones.\n",
    "    for uid, user_ratings in top_n.items():\n",
    "        user_ratings.sort(key=lambda x: x[1], reverse=True)\n",
    "        top_n[uid] = user_ratings[:n]\n",
    "\n",
    "    return top_n\n",
    "\n",
    "\n",
    "\n",
    "\n"
   ]
  },
  {
   "cell_type": "code",
   "execution_count": 15,
   "metadata": {},
   "outputs": [
    {
     "name": "stdout",
     "output_type": "stream",
     "text": [
      "RMSE: 1.0217\n",
      "1.0216547963980525\n",
      "MAE:  0.8428\n",
      "0.8428325826224987\n"
     ]
    }
   ],
   "source": [
    "from surprise import Dataset, NormalPredictor, accuracy\n",
    "data = Dataset.load_builtin(\"ml-100k\")\n",
    "trainset = data.build_full_trainset()\n",
    "algo = NormalPredictor()\n",
    "algo.fit(trainset)\n",
    "\n",
    "# Than predict ratings for all pairs (u, i) that are NOT in the training set.\n",
    "testset = trainset.build_anti_testset()\n",
    "predictions = algo.test(testset)\n",
    "\n",
    "print(accuracy.rmse(predictions))\n",
    "print(accuracy.mae(predictions))\n",
    "\n",
    "\n",
    "\n",
    "\n"
   ]
  },
  {
   "cell_type": "markdown",
   "source": [],
   "metadata": {
    "collapsed": false
   }
  },
  {
   "cell_type": "code",
   "execution_count": null,
   "metadata": {
    "pycharm": {
     "is_executing": true
    }
   },
   "outputs": [],
   "source": [
    "#print(len(top_n.get('1')))\n",
    "\n",
    "print(get_top_n(predictions,1))\n",
    "\n",
    "\n",
    "\n"
   ]
  },
  {
   "cell_type": "code",
   "execution_count": 22,
   "outputs": [],
   "source": [],
   "metadata": {
    "collapsed": false
   }
  },
  {
   "cell_type": "code",
   "execution_count": 40,
   "outputs": [
    {
     "name": "stdout",
     "output_type": "stream",
     "text": [
      "[('265', 5), ('257', 5), ('768', 5), ('98', 5), ('304', 5), ('1137', 5), ('241', 5), ('143', 5), ('526', 5), ('919', 5)]\n"
     ]
    }
   ],
   "source": [
    "# a dictionary in the format (KEY=userID, VALUE= [movieID, predict rating])\n",
    "top_rated_10= get_top_n(predictions, 10)\n",
    "#to get to a list of values and ratings we can use .get\n",
    "#but it requires userid to be in string format\n",
    "print(top_rated_10.get('398'))\n"
   ],
   "metadata": {
    "collapsed": false
   }
  },
  {
   "cell_type": "code",
   "execution_count": 59,
   "outputs": [
    {
     "name": "stdout",
     "output_type": "stream",
     "text": [
      "[('785', 5), ('1042', 5), ('1081', 5), ('796', 5), ('232', 5), ('15', 5), ('1444', 5), ('480', 5), ('328', 5), ('195', 5)]\n"
     ]
    }
   ],
   "source": [
    "userList=top_rated_10.get('5')\n",
    "print(userList)"
   ],
   "metadata": {
    "collapsed": false
   }
  },
  {
   "cell_type": "code",
   "execution_count": 98,
   "outputs": [
    {
     "ename": "TypeError",
     "evalue": "int() argument must be a string, a bytes-like object or a real number, not 'list'",
     "output_type": "error",
     "traceback": [
      "\u001B[1;31m---------------------------------------------------------------------------\u001B[0m",
      "\u001B[1;31mTypeError\u001B[0m                                 Traceback (most recent call last)",
      "Cell \u001B[1;32mIn [98], line 6\u001B[0m\n\u001B[0;32m      2\u001B[0m raw_item_ids \u001B[38;5;241m=\u001B[39m [t[\u001B[38;5;241m0\u001B[39m] \u001B[38;5;28;01mfor\u001B[39;00m t \u001B[38;5;129;01min\u001B[39;00m userList]\n\u001B[0;32m      4\u001B[0m \u001B[38;5;66;03m# Print the result\u001B[39;00m\n\u001B[0;32m      5\u001B[0m \u001B[38;5;66;03m#TODO needs to conver to a np array for some fucking reason idek\u001B[39;00m\n\u001B[1;32m----> 6\u001B[0m items\u001B[38;5;241m=\u001B[39m np\u001B[38;5;241m.\u001B[39marray(\u001B[38;5;28;43mint\u001B[39;49m\u001B[43m(\u001B[49m\u001B[43mraw_item_ids\u001B[49m\u001B[43m)\u001B[49m)\n\u001B[0;32m      7\u001B[0m items\n",
      "\u001B[1;31mTypeError\u001B[0m: int() argument must be a string, a bytes-like object or a real number, not 'list'"
     ]
    }
   ],
   "source": [
    "# Extract the first value from each tuple using list comprehension\n",
    "raw_item_ids = [t[0] for t in userList]\n",
    "\n",
    "# Print the result\n",
    "#TODO needs to conver to a np array for some fucking reason idek\n",
    "raw_item_ids"
   ],
   "metadata": {
    "collapsed": false
   }
  },
  {
   "cell_type": "code",
   "execution_count": 97,
   "outputs": [
    {
     "ename": "ValueError",
     "evalue": "Buffer has wrong number of dimensions (expected 1, got 2)",
     "output_type": "error",
     "traceback": [
      "\u001B[1;31m---------------------------------------------------------------------------\u001B[0m",
      "\u001B[1;31mValueError\u001B[0m                                Traceback (most recent call last)",
      "Cell \u001B[1;32mIn [97], line 2\u001B[0m\n\u001B[0;32m      1\u001B[0m \u001B[38;5;66;03m# Get the movie titles corresponding to the item IDs in the list\u001B[39;00m\n\u001B[1;32m----> 2\u001B[0m movie_names \u001B[38;5;241m=\u001B[39m movies\u001B[38;5;241m.\u001B[39mloc[\u001B[43mmovies\u001B[49m\u001B[43m[\u001B[49m\u001B[38;5;124;43m'\u001B[39;49m\u001B[38;5;124;43mmovie_id\u001B[39;49m\u001B[38;5;124;43m'\u001B[39;49m\u001B[43m]\u001B[49m\u001B[38;5;241;43m.\u001B[39;49m\u001B[43misin\u001B[49m\u001B[43m(\u001B[49m\u001B[43mitems\u001B[49m\u001B[43m)\u001B[49m, \u001B[38;5;124m'\u001B[39m\u001B[38;5;124mtitle\u001B[39m\u001B[38;5;124m'\u001B[39m]\u001B[38;5;241m.\u001B[39mtolist()\n\u001B[0;32m      4\u001B[0m \u001B[38;5;66;03m# Print the resulting movie names\u001B[39;00m\n\u001B[0;32m      5\u001B[0m \u001B[38;5;28mprint\u001B[39m(movie_names)\n",
      "File \u001B[1;32m~\\anaconda3\\envs\\FinalProject\\lib\\site-packages\\pandas\\core\\series.py:5563\u001B[0m, in \u001B[0;36mSeries.isin\u001B[1;34m(self, values)\u001B[0m\n\u001B[0;32m   5490\u001B[0m \u001B[38;5;28;01mdef\u001B[39;00m \u001B[38;5;21misin\u001B[39m(\u001B[38;5;28mself\u001B[39m, values) \u001B[38;5;241m-\u001B[39m\u001B[38;5;241m>\u001B[39m Series:\n\u001B[0;32m   5491\u001B[0m     \u001B[38;5;124;03m\"\"\"\u001B[39;00m\n\u001B[0;32m   5492\u001B[0m \u001B[38;5;124;03m    Whether elements in Series are contained in `values`.\u001B[39;00m\n\u001B[0;32m   5493\u001B[0m \n\u001B[1;32m   (...)\u001B[0m\n\u001B[0;32m   5561\u001B[0m \u001B[38;5;124;03m    dtype: bool\u001B[39;00m\n\u001B[0;32m   5562\u001B[0m \u001B[38;5;124;03m    \"\"\"\u001B[39;00m\n\u001B[1;32m-> 5563\u001B[0m     result \u001B[38;5;241m=\u001B[39m \u001B[43malgorithms\u001B[49m\u001B[38;5;241;43m.\u001B[39;49m\u001B[43misin\u001B[49m\u001B[43m(\u001B[49m\u001B[38;5;28;43mself\u001B[39;49m\u001B[38;5;241;43m.\u001B[39;49m\u001B[43m_values\u001B[49m\u001B[43m,\u001B[49m\u001B[43m \u001B[49m\u001B[43mvalues\u001B[49m\u001B[43m)\u001B[49m\n\u001B[0;32m   5564\u001B[0m     \u001B[38;5;28;01mreturn\u001B[39;00m \u001B[38;5;28mself\u001B[39m\u001B[38;5;241m.\u001B[39m_constructor(result, index\u001B[38;5;241m=\u001B[39m\u001B[38;5;28mself\u001B[39m\u001B[38;5;241m.\u001B[39mindex)\u001B[38;5;241m.\u001B[39m__finalize__(\n\u001B[0;32m   5565\u001B[0m         \u001B[38;5;28mself\u001B[39m, method\u001B[38;5;241m=\u001B[39m\u001B[38;5;124m\"\u001B[39m\u001B[38;5;124misin\u001B[39m\u001B[38;5;124m\"\u001B[39m\n\u001B[0;32m   5566\u001B[0m     )\n",
      "File \u001B[1;32m~\\anaconda3\\envs\\FinalProject\\lib\\site-packages\\pandas\\core\\algorithms.py:523\u001B[0m, in \u001B[0;36misin\u001B[1;34m(comps, values)\u001B[0m\n\u001B[0;32m    520\u001B[0m     comps_array \u001B[38;5;241m=\u001B[39m comps_array\u001B[38;5;241m.\u001B[39mastype(common, copy\u001B[38;5;241m=\u001B[39m\u001B[38;5;28;01mFalse\u001B[39;00m)\n\u001B[0;32m    521\u001B[0m     f \u001B[38;5;241m=\u001B[39m htable\u001B[38;5;241m.\u001B[39mismember\n\u001B[1;32m--> 523\u001B[0m \u001B[38;5;28;01mreturn\u001B[39;00m \u001B[43mf\u001B[49m\u001B[43m(\u001B[49m\u001B[43mcomps_array\u001B[49m\u001B[43m,\u001B[49m\u001B[43m \u001B[49m\u001B[43mvalues\u001B[49m\u001B[43m)\u001B[49m\n",
      "File \u001B[1;32mpandas\\_libs\\hashtable_func_helper.pxi:2253\u001B[0m, in \u001B[0;36mpandas._libs.hashtable.__pyx_fuse_10ismember\u001B[1;34m()\u001B[0m\n",
      "\u001B[1;31mValueError\u001B[0m: Buffer has wrong number of dimensions (expected 1, got 2)"
     ]
    }
   ],
   "source": [
    "# Get the movie titles corresponding to the item IDs in the list\n",
    "movie_names = movies.loc[movies['movie_id'].isin(arr), 'title'].tolist()\n",
    "\n",
    "# Print the resulting movie names\n",
    "print(movie_names)\n"
   ],
   "metadata": {
    "collapsed": false
   }
  },
  {
   "cell_type": "code",
   "execution_count": 89,
   "outputs": [
    {
     "name": "stdout",
     "output_type": "stream",
     "text": [
      "['Only You (1994)', 'Just Cause (1995)', 'Curdled (1996)']\n"
     ]
    }
   ],
   "source": [
    "\n",
    "\n"
   ],
   "metadata": {
    "collapsed": false
   }
  },
  {
   "cell_type": "code",
   "execution_count": null,
   "outputs": [],
   "source": [],
   "metadata": {
    "collapsed": false,
    "pycharm": {
     "is_executing": true
    }
   }
  },
  {
   "cell_type": "code",
   "execution_count": 65,
   "outputs": [],
   "source": [],
   "metadata": {
    "collapsed": false
   }
  }
 ],
 "metadata": {
  "kernelspec": {
   "display_name": "Python 3",
   "language": "python",
   "name": "python3"
  },
  "language_info": {
   "codemirror_mode": {
    "name": "ipython",
    "version": 3
   },
   "file_extension": ".py",
   "mimetype": "text/x-python",
   "name": "python",
   "nbconvert_exporter": "python",
   "pygments_lexer": "ipython3",
   "version": "3.9.12 (main, Apr 30 2022, 21:12:07)  [GCC 11.3.0 64 bit (AMD64)]"
  },
  "vscode": {
   "interpreter": {
    "hash": "2a8dfe095fce2b5e88c64a2c3ee084c8e0e0d70b23e7b95b1cfb538be294c5c8"
   }
  }
 },
 "nbformat": 4,
 "nbformat_minor": 1
}
