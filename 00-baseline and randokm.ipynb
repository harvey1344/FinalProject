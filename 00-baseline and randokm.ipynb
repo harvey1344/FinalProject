{
 "cells": [
  {
   "cell_type": "markdown",
   "source": [
    "This notebook contains the code to train  and test surprises NormalPredictor algorithm and my own random rating generator\n"
   ],
   "metadata": {
    "collapsed": false
   }
  },
  {
   "cell_type": "code",
   "execution_count": 2,
   "outputs": [],
   "source": [
    "import numpy as np\n",
    "from surprise.dataset import Dataset\n",
    "from surprise import AlgoBase, Prediction, PredictionImpossible, NormalPredictor\n",
    "from surprise.model_selection import train_test_split\n",
    "from surprise.accuracy import rmse\n",
    "\n"
   ],
   "metadata": {
    "collapsed": false
   }
  },
  {
   "cell_type": "code",
   "execution_count": 13,
   "outputs": [
    {
     "name": "stdout",
     "output_type": "stream",
     "text": [
      "RMSE: 1.5045\n"
     ]
    }
   ],
   "source": [
    "\n",
    "data= Dataset.load_builtin('ml-1m')\n",
    "trainset, testset = train_test_split(data, test_size=0.25, random_state=1)\n",
    "algo= NormalPredictor()\n",
    "algo.fit(trainset)\n",
    "predict= algo.test(testset)\n",
    "rmse_normal= rmse(predict)\n"
   ],
   "metadata": {
    "collapsed": false
   }
  },
  {
   "cell_type": "code",
   "execution_count": 14,
   "outputs": [],
   "source": [
    "# code for random algorithm\n",
    "# very simple predictor will generate a random floating point number from 1-5 each prediction\n",
    "#accepts seeding for reproducable results\n",
    "\n",
    "class pureRandom(AlgoBase):\n",
    "    def __init__(self, seed=None):\n",
    "        AlgoBase.__init__(self)\n",
    "        self.seed=seed\n",
    "\n",
    "    def fit(self, trainset):\n",
    "        #doesnt technially need training but seed need setting\n",
    "        if self.seed is not None:\n",
    "            np.random.seed(self.seed)\n",
    "        return self\n",
    "\n",
    "    def estimate(self, u , i):\n",
    "        return np.random.uniform(1.0, 5.0)\n",
    "\n",
    "    def predict(self, uid, iid, r_ui=None, clip=True, verbose=False):\n",
    "        try:\n",
    "            est = self.estimate(uid, iid)\n",
    "            return Prediction(uid, iid, r_ui, est, details=None)\n",
    "        except PredictionImpossible as e:\n",
    "            if verbose:\n",
    "                print(str(e))\n",
    "            return None\n",
    "\n"
   ],
   "metadata": {
    "collapsed": false
   }
  },
  {
   "cell_type": "code",
   "execution_count": 16,
   "outputs": [
    {
     "name": "stdout",
     "output_type": "stream",
     "text": [
      "RMSE: 1.5067\n"
     ]
    }
   ],
   "source": [
    "algo_r= pureRandom(seed=1)\n",
    "algo.fit(trainset)\n",
    "predict= algo.test(testset)\n",
    "rmse_random= rmse(predict)\n"
   ],
   "metadata": {
    "collapsed": false
   }
  },
  {
   "cell_type": "code",
   "execution_count": null,
   "outputs": [
    {
     "name": "stdout",
     "output_type": "stream",
     "text": [
      "here\n",
      "453.3124952316284\n"
     ]
    }
   ],
   "source": [
    "from own_algorithms import KNN3, UserItemKNNv2\n",
    "import time\n",
    "\n",
    "data=Dataset.load_builtin('ml-1m')\n",
    "trainset, testset = train_test_split(data, test_size=0.25, random_state=1)\n",
    "print('here')\n",
    "\n",
    "algo=KNN3.UserItemKNNv3()\n",
    "time_s=time.time()\n",
    "algo.fit(trainset)\n",
    "predict=algo.test(testset)\n",
    "\n",
    "print(time.time()- time_s)\n",
    "\n",
    "algo=UserItemKNNv2.UserItemKNNv2()\n",
    "time_s=time.time()\n",
    "algo.fit(trainset)\n",
    "predict=algo.test(testset)\n",
    "print(time.time()- time_s)\n"
   ],
   "metadata": {
    "collapsed": false,
    "pycharm": {
     "is_executing": true
    }
   }
  },
  {
   "cell_type": "code",
   "execution_count": null,
   "outputs": [],
   "source": [],
   "metadata": {
    "collapsed": false
   }
  }
 ],
 "metadata": {
  "kernelspec": {
   "display_name": "Python 3",
   "language": "python",
   "name": "python3"
  },
  "language_info": {
   "codemirror_mode": {
    "name": "ipython",
    "version": 2
   },
   "file_extension": ".py",
   "mimetype": "text/x-python",
   "name": "python",
   "nbconvert_exporter": "python",
   "pygments_lexer": "ipython2",
   "version": "2.7.6"
  }
 },
 "nbformat": 4,
 "nbformat_minor": 0
}
