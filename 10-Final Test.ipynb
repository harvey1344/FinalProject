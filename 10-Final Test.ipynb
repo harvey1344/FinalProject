{
 "cells": [
  {
   "cell_type": "markdown",
   "source": [
    "In this notebook, all the algorithms that have been used thus far will be retrained and tested on the ml-1m\n",
    "and then plotted against speed and accuracy"
   ],
   "metadata": {
    "collapsed": false
   }
  },
  {
   "cell_type": "code",
   "execution_count": 6,
   "outputs": [],
   "source": [
    "#list of algorithms\n",
    "'''knn item, knn user, knn baseline,Knn hybrid ,svd, nmf, nmf bias, slope one, combination hybrid'''\n",
    "from surprise import KNNBaseline, KNNBasic, SVD, NMF, SlopeOne, NormalPredictor\n",
    "from own_algorithms.UserItemKNNv2 import UserItemKNNv2\n",
    "from own_algorithms.Combination import Combiner\n",
    "from surprise.model_selection import train_test_split\n",
    "from surprise.accuracy import rmse\n"
   ],
   "metadata": {
    "collapsed": false
   }
  },
  {
   "cell_type": "code",
   "execution_count": 7,
   "outputs": [],
   "source": [
    "import numpy as np, pandas as pd\n",
    "import matplotlib.pyplot as plt\n"
   ],
   "metadata": {
    "collapsed": false
   }
  },
  {
   "cell_type": "code",
   "execution_count": 8,
   "outputs": [],
   "source": [
    "# build models\n",
    "item_knn= KNNBasic(k=60, sim_options= {'name': 'cosine', 'user_based': False}, verbose=False)\n",
    "user_knn= KNNBasic(k=55, sim_options={'name': 'Pearson', 'user_based': True}, verbose=False)\n",
    "base_knn= KNNBaseline(k=40, verbose=False,sim_options={'name': 'pearson_baseline', 'min_support': 1, 'user_based': False,})\n",
    "hybrid_knn= UserItemKNNv2()\n",
    "svd= SVD(n_factors=250, lr_all=0.01, reg_all=0.1, n_epochs=50, random_state=1)\n",
    "unbias_nmf=NMF(n_factors=20, lr_bu=0.02, lr_bi=0.02, reg_bu=0.05, reg_bi=0.2, n_epochs=70, biased=False, random_state=1)\n",
    "bias_nmf=NMF(n_factors=20, lr_bu=0.02, lr_bi=0.02, reg_bu=0.05, reg_bi=0.2, n_epochs=70, biased=True, random_state=1)\n",
    "slope= SlopeOne()\n",
    "combiner= Combiner(0.65, 0.45)"
   ],
   "metadata": {
    "collapsed": false
   }
  },
  {
   "cell_type": "code",
   "execution_count": 9,
   "outputs": [],
   "source": [
    "from surprise import Dataset\n",
    "\n",
    "# Load the ml-1m dataset\n",
    "data = Dataset.load_builtin('ml-1m')\n",
    "\n",
    "# Split the dataset into train and test sets\n",
    "trainset, testset = train_test_split(data, test_size=0.2)\n",
    "\n",
    "# Define the dataframe columns\n",
    "columns = ['Algorithm', 'RMSE', 'Fit Time', 'Predict Time']\n",
    "results_df = pd.DataFrame(columns=columns)"
   ],
   "metadata": {
    "collapsed": false
   }
  },
  {
   "cell_type": "code",
   "execution_count": 12,
   "outputs": [],
   "source": [
    "from surprise import accuracy\n",
    "\n",
    "import time\n",
    "\n",
    "def evaluate_algorithm(algo, algo_name):\n",
    "    start_time = time.time()\n",
    "    algo.fit(trainset)\n",
    "    fit_time = time.time() - start_time\n",
    "\n",
    "    start_time = time.time()\n",
    "    predictions = algo.test(testset)\n",
    "    pred_time = time.time() - start_time\n",
    "\n",
    "    rmse = accuracy.rmse(predictions, verbose=False)\n",
    "\n",
    "    results_df.loc[len(results_df)] = [algo_name, rmse, fit_time, pred_time]\n"
   ],
   "metadata": {
    "collapsed": false
   }
  },
  {
   "cell_type": "code",
   "execution_count": null,
   "outputs": [],
   "source": [
    "# Evaluate each algorithm and store the results\n",
    "evaluate_algorithm(item_knn, 'ItemKNN')\n",
    "evaluate_algorithm(user_knn, 'UserKNN')\n",
    "evaluate_algorithm(base_knn, 'BaselineKNN')\n",
    "evaluate_algorithm(hybrid_knn, 'HybridKNN')\n",
    "evaluate_algorithm(svd, 'SVD')\n",
    "evaluate_algorithm(unbias_nmf, 'NMF (Unbiased)')\n",
    "evaluate_algorithm(bias_nmf, 'NMF (Biased)')\n",
    "evaluate_algorithm(slope, 'SlopeOne')\n",
    "evaluate_algorithm(combiner, 'Combiner')\n",
    "\n",
    "# Display the results dataframe\n",
    "print(results_df)"
   ],
   "metadata": {
    "collapsed": false,
    "pycharm": {
     "is_executing": true
    }
   }
  },
  {
   "cell_type": "code",
   "execution_count": null,
   "outputs": [],
   "source": [],
   "metadata": {
    "collapsed": false
   }
  }
 ],
 "metadata": {
  "kernelspec": {
   "display_name": "Python 3",
   "language": "python",
   "name": "python3"
  },
  "language_info": {
   "codemirror_mode": {
    "name": "ipython",
    "version": 2
   },
   "file_extension": ".py",
   "mimetype": "text/x-python",
   "name": "python",
   "nbconvert_exporter": "python",
   "pygments_lexer": "ipython2",
   "version": "2.7.6"
  }
 },
 "nbformat": 4,
 "nbformat_minor": 0
}
