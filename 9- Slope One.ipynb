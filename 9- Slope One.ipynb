{
 "cells": [
  {
   "cell_type": "markdown",
   "source": [
    "The penultimate algorithm I will be testing is Slope One. Described as a simple\n",
    "but effective collaborative model. It is neither a nearest neirbough or a matirx factorisation algorithm and has no tunable parameters."
   ],
   "metadata": {
    "collapsed": false
   }
  },
  {
   "cell_type": "code",
   "execution_count": 5,
   "outputs": [],
   "source": [
    "from surprise import Dataset, SlopeOne\n",
    "from surprise.accuracy import rmse, mae\n",
    "from surprise.model_selection import train_test_split\n",
    "import pandas as pd\n",
    "import numpy as np\n",
    "import matplotlib.pyplot as plt\n",
    "import random\n",
    "import time\n"
   ],
   "metadata": {
    "collapsed": false
   }
  },
  {
   "cell_type": "code",
   "execution_count": 2,
   "outputs": [],
   "source": [
    "#split into validate and test sets\n",
    "\n",
    "data100k = Dataset.load_builtin('ml-100k')\n",
    "raw_ratings= data100k.raw_ratings\n",
    "\n",
    "random.seed(2001)\n",
    "np.random.seed(2001)\n",
    "random.shuffle(raw_ratings)\n",
    "\n",
    "# create threshold for unseen, 80-20\n",
    "cutoff = int(0.8 * len(raw_ratings))\n",
    "A_raw= raw_ratings[:cutoff]\n",
    "B_raw= raw_ratings[cutoff:]\n",
    "\n",
    "# data is now only set A ratings\n",
    "data100k.raw_ratings= A_raw"
   ],
   "metadata": {
    "collapsed": false
   }
  },
  {
   "cell_type": "code",
   "execution_count": null,
   "outputs": [],
   "source": [],
   "metadata": {
    "collapsed": false
   }
  },
  {
   "cell_type": "code",
   "execution_count": 10,
   "outputs": [
    {
     "name": "stdout",
     "output_type": "stream",
     "text": [
      "Unbiased accuracy on 100k=, RMSE: 0.9438\n",
      "Fit time for 100k = 1.3098831176757812\n",
      "Test time for 100k =3.9256973266601562\n"
     ]
    }
   ],
   "source": [
    "# training and testing on ml100k\n",
    "algo= SlopeOne()\n",
    "\n",
    "trainset = data100k.build_full_trainset()\n",
    "start_fit = time.time()\n",
    "algo.fit(trainset)\n",
    "fit_100k= time.time()-start_fit\n",
    "\n",
    "testset = data100k.construct_testset(B_raw)  # testset is now the set B\n",
    "start_predict= time.time()\n",
    "predictions_100k = algo.test(testset)\n",
    "test_100k= time.time()-start_predict\n",
    "print(\"Unbiased accuracy on 100k=,\", end=\" \")\n",
    "rmse_100k= rmse(predictions_100k)\n",
    "print(\"Fit time for 100k = \"+ str(fit_100k))\n",
    "print(\"Test time for 100k =\"+ str(test_100k))"
   ],
   "metadata": {
    "collapsed": false
   }
  },
  {
   "cell_type": "code",
   "execution_count": 12,
   "outputs": [
    {
     "name": "stdout",
     "output_type": "stream",
     "text": [
      "Unbiased accuracy on 1m=, RMSE: 0.9066\n",
      "Fit time for 1m = 14.612466096878052\n",
      "Test time for 1m =83.45496582984924\n"
     ]
    }
   ],
   "source": [
    "# training and testing on ml1m\n",
    "data1m= Dataset.load_builtin('ml-1m')\n",
    "trainset, testset = train_test_split(data1m, test_size=0.25)\n",
    "start_fit = time.time()\n",
    "algo.fit(trainset)\n",
    "fit_1m= time.time()-start_fit\n",
    "\n",
    "start_predict= time.time()\n",
    "predictions_1m = algo.test(testset)\n",
    "test_1m= time.time()-start_predict\n",
    "print(\"Unbiased accuracy on 1m=,\", end=\" \")\n",
    "rmse_1m= rmse(predictions_1m)\n",
    "print(\"Fit time for 1m = \"+ str(fit_1m))\n",
    "print(\"Test time for 1m =\"+ str(test_1m))\n"
   ],
   "metadata": {
    "collapsed": false
   }
  },
  {
   "cell_type": "code",
   "execution_count": null,
   "outputs": [],
   "source": [],
   "metadata": {
    "collapsed": false
   }
  }
 ],
 "metadata": {
  "kernelspec": {
   "display_name": "Python 3",
   "language": "python",
   "name": "python3"
  },
  "language_info": {
   "codemirror_mode": {
    "name": "ipython",
    "version": 2
   },
   "file_extension": ".py",
   "mimetype": "text/x-python",
   "name": "python",
   "nbconvert_exporter": "python",
   "pygments_lexer": "ipython2",
   "version": "2.7.6"
  }
 },
 "nbformat": 4,
 "nbformat_minor": 0
}
