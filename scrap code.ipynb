{
 "cells": [
  {
   "cell_type": "code",
   "execution_count": null,
   "metadata": {
    "collapsed": true
   },
   "outputs": [],
   "source": [
    "# Cross fold validation for KNNBasic using item based collaborative filtering with default options\n",
    "\n",
    "# Load the data using the built-in function\n",
    "data = Dataset.load_builtin('ml-100k')\n",
    "\n",
    "# Define the algorithm with verbose=False\n",
    "algo = KNNBasic(sim_options={'user_based': False}, verbose=False)\n",
    "\n",
    "# Define the K-fold cross-validation iterator\n",
    "kf = KFold(n_splits=10, random_state=1)\n",
    "\n",
    "# Initialize arrays to store the scores\n",
    "ib_rmse_scores = np.array([])\n",
    "ib_mse_scores = np.array([])\n",
    "ib_mae_scores = np.array([])\n",
    "\n",
    "# Perform K-fold cross-validation\n",
    "for trainset, testset in kf.split(data):\n",
    "    # Train the algorithm on the training set\n",
    "    algo.fit(trainset)\n",
    "\n",
    "    # Predict the ratings for the test set\n",
    "    predictions = algo.test(testset)\n",
    "\n",
    "    # Compute the metrics for the predictions\n",
    "    rmse_score= rmse(predictions,verbose=False)\n",
    "    mse_score= mse(predictions, verbose=False)\n",
    "    mae_score= mae(predictions,  verbose=False)\n",
    "    # Compute the metrics for the predictions\n",
    "    ib_rmse_scores = np.append(ib_rmse_scores, rmse_score)\n",
    "    ib_mse_scores = np.append(ib_mse_scores, mse_score)\n",
    "    ib_mae_scores = np.append(ib_mae_scores, mae_score)\n"
   ]
  }
 ],
 "metadata": {
  "kernelspec": {
   "display_name": "Python 3",
   "language": "python",
   "name": "python3"
  },
  "language_info": {
   "codemirror_mode": {
    "name": "ipython",
    "version": 2
   },
   "file_extension": ".py",
   "mimetype": "text/x-python",
   "name": "python",
   "nbconvert_exporter": "python",
   "pygments_lexer": "ipython2",
   "version": "2.7.6"
  }
 },
 "nbformat": 4,
 "nbformat_minor": 0
}
